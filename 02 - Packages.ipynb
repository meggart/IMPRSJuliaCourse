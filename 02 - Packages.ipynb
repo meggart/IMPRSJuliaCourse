{
 "cells": [
  {
   "cell_type": "markdown",
   "metadata": {},
   "source": [
    "### Julia packages\n",
    "\n",
    "* currently >2000 registered packages\n",
    "* almost exclusively hosted on github\n",
    "* varying quality\n",
    "* best search strategy Julia + \"keyword\" or \"julialang\" + keyword\n",
    "* start from the github page\n",
    "* documentation:\n",
    "    * either in the github README\n",
    "    * or follow the blue link to the docs\n",
    "\n",
    "\n",
    "### Environments\n",
    "\n",
    "- see terminal session\n",
    "- `add` adds dependencies to current project\n",
    "- `instantiate` installs all required packages for the current project\n",
    "- `up` updates packages\n",
    "- `dev` clones a package's git repository so you can modify\n",
    "- `status` shows packages of the current project"
   ]
  },
  {
   "cell_type": "code",
   "execution_count": null,
   "metadata": {},
   "outputs": [],
   "source": [
    "using Pkg\n",
    "Pkg.activate(\".\")"
   ]
  }
 ],
 "metadata": {
  "@webio": {
   "lastCommId": "4f8aedc244a5454e809656b94493281b",
   "lastKernelId": "a2d33794-7e29-45de-a50a-19aa72ed57d2"
  },
  "kernelspec": {
   "display_name": "Julia 1.0.2",
   "language": "julia",
   "name": "julia-1.0"
  },
  "language_info": {
   "file_extension": ".jl",
   "mimetype": "application/julia",
   "name": "julia",
   "version": "1.0.2"
  }
 },
 "nbformat": 4,
 "nbformat_minor": 2
}
