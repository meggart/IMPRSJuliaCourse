{
 "cells": [
  {
   "cell_type": "markdown",
   "metadata": {},
   "source": [
    "Functions can be passed to, and returned from other functions"
   ]
  },
  {
   "cell_type": "code",
   "execution_count": 3,
   "metadata": {},
   "outputs": [
    {
     "data": {
      "text/plain": [
       "6"
      ]
     },
     "execution_count": 3,
     "metadata": {},
     "output_type": "execute_result"
    }
   ],
   "source": [
    "f(x) = i -> i*x\n",
    "g = f(2)\n",
    "g(3)"
   ]
  },
  {
   "cell_type": "code",
   "execution_count": 6,
   "metadata": {},
   "outputs": [
    {
     "data": {
      "text/plain": [
       "2.0"
      ]
     },
     "execution_count": 6,
     "metadata": {},
     "output_type": "execute_result"
    }
   ],
   "source": [
    "a(f,x) = 2*f(x)\n",
    "a(sin,π/2)"
   ]
  },
  {
   "cell_type": "markdown",
   "metadata": {},
   "source": [
    "Functions can be chained"
   ]
  },
  {
   "cell_type": "code",
   "execution_count": 8,
   "metadata": {},
   "outputs": [
    {
     "data": {
      "text/plain": [
       "true"
      ]
     },
     "execution_count": 8,
     "metadata": {},
     "output_type": "execute_result"
    }
   ],
   "source": [
    "newfun = exp ∘ sin\n",
    "newfun(1.0) == exp(sin(1.0))"
   ]
  },
  {
   "cell_type": "code",
   "execution_count": 9,
   "metadata": {},
   "outputs": [
    {
     "data": {
      "text/plain": [
       "2.319776824715853"
      ]
     },
     "execution_count": 9,
     "metadata": {},
     "output_type": "execute_result"
    }
   ],
   "source": [
    "1.0 |> sin |> exp"
   ]
  },
  {
   "cell_type": "markdown",
   "metadata": {},
   "source": [
    "There is special syntax for functions that take functions as their first argument"
   ]
  },
  {
   "cell_type": "code",
   "execution_count": 12,
   "metadata": {},
   "outputs": [
    {
     "data": {
      "text/plain": [
       "14"
      ]
     },
     "execution_count": 12,
     "metadata": {},
     "output_type": "execute_result"
    }
   ],
   "source": [
    "square(x) = x*x\n",
    "sum(square,[1,2,3])\n",
    "sum(i->i*i,[1,2,3])\n",
    "sum([1,2,3]) do i\n",
    "    i*i\n",
    "end"
   ]
  },
  {
   "cell_type": "code",
   "execution_count": 14,
   "metadata": {},
   "outputs": [
    {
     "data": {
      "text/plain": [
       "true"
      ]
     },
     "execution_count": 14,
     "metadata": {},
     "output_type": "execute_result"
    }
   ],
   "source": [
    "x = [1,2,missing]\n",
    "any(ismissing.(x)) # R way\n",
    "any(ismissing,x)"
   ]
  },
  {
   "cell_type": "code",
   "execution_count": null,
   "metadata": {},
   "outputs": [],
   "source": [
    "open(filename) do f\n",
    "    while not\n",
    "        \n",
    "    end\n",
    "end"
   ]
  },
  {
   "cell_type": "code",
   "execution_count": 15,
   "metadata": {},
   "outputs": [
    {
     "data": {
      "text/plain": [
       "3-element Array{Int64,1}:\n",
       " 5\n",
       " 7\n",
       " 9"
      ]
     },
     "execution_count": 15,
     "metadata": {},
     "output_type": "execute_result"
    }
   ],
   "source": [
    "broadcast([1,2,3],[4,5,6]) do a,b\n",
    "    a+b\n",
    "end"
   ]
  },
  {
   "cell_type": "markdown",
   "metadata": {},
   "source": [
    "Examples for functions that like map .. do syntax: \n",
    "* map, broadcast, foreach\n",
    "* open (files)\n",
    "* sum, mapreduce"
   ]
  },
  {
   "cell_type": "markdown",
   "metadata": {},
   "source": [
    "### Exercise:\n",
    "\n",
    "1. write a function that sorts a vector of strings by their second character (look at the help of the `sort` function)\n",
    "2. write a function that accepts an input function and returns another function. The returned function should, when called, always return the result of the input function multiplied by 2. \n",
    "3. Calculate the sum of the absolute values of a vector without allocating an intermediate array"
   ]
  },
  {
   "cell_type": "code",
   "execution_count": 37,
   "metadata": {},
   "outputs": [
    {
     "data": {
      "text/plain": [
       "4-element Array{String,1}:\n",
       " \"Hallo\"  \n",
       " \"Zaa\"    \n",
       " \"Hello\"  \n",
       " \"ZZZZZZZ\""
      ]
     },
     "execution_count": 37,
     "metadata": {},
     "output_type": "execute_result"
    }
   ],
   "source": [
    "using Test\n",
    "\n",
    "s = [\"Hello\",\"ZZZZZZZ\",\"Hallo\",\"Zaa\"]\n",
    "function extractsecondchar(h) \n",
    "    uppercase(h[2])\n",
    "end\n",
    "sort(s,by = extractsecondchar)"
   ]
  },
  {
   "cell_type": "code",
   "execution_count": 35,
   "metadata": {},
   "outputs": [
    {
     "data": {
      "text/plain": [
       "'a': ASCII/Unicode U+0061 (category Ll: Letter, lowercase)"
      ]
     },
     "execution_count": 35,
     "metadata": {},
     "output_type": "execute_result"
    }
   ],
   "source": [
    "hh = \"hallo\"\n",
    "hh[2]"
   ]
  },
  {
   "cell_type": "code",
   "execution_count": 39,
   "metadata": {},
   "outputs": [
    {
     "data": {
      "text/plain": [
       "\u001b[32m\u001b[1mTest Passed\u001b[22m\u001b[39m"
      ]
     },
     "execution_count": 39,
     "metadata": {},
     "output_type": "execute_result"
    }
   ],
   "source": [
    "## 2:\n",
    "\n",
    "function doublefun(f)\n",
    "    function newfun(x...) \n",
    "        2*f(x...)\n",
    "    end\n",
    "    return newfun\n",
    "end\n",
    "\n",
    "f1(x,y) = sin(x)*cos(y)\n",
    "f2 = doublefun(f1)\n",
    "@test f2(3.0,2.0) == 2*f1(3.0,2.0)"
   ]
  },
  {
   "cell_type": "markdown",
   "metadata": {},
   "source": [
    "### Closures, callable objects and recursion\n",
    "\n",
    "* defining closures that hold data\n",
    "* formalize this more by making objects callable\n",
    "* recursive functions"
   ]
  },
  {
   "cell_type": "code",
   "execution_count": 42,
   "metadata": {},
   "outputs": [
    {
     "data": {
      "text/plain": [
       "2-element Array{Float64,1}:\n",
       " 0.0712578109863109 \n",
       " 0.26111059025030614"
      ]
     },
     "execution_count": 42,
     "metadata": {},
     "output_type": "execute_result"
    }
   ],
   "source": [
    "function dense(x)\n",
    "    output = W*x + b.*x\n",
    "end\n",
    "W=rand(2,2)\n",
    "b=rand(2)"
   ]
  },
  {
   "cell_type": "code",
   "execution_count": 43,
   "metadata": {},
   "outputs": [
    {
     "data": {
      "text/plain": [
       "2-element Array{Float64,1}:\n",
       " 2.3923702614138573\n",
       " 2.315368458866012 "
      ]
     },
     "execution_count": 43,
     "metadata": {},
     "output_type": "execute_result"
    }
   ],
   "source": [
    "dense([2.0,2.0])"
   ]
  },
  {
   "cell_type": "code",
   "execution_count": 1,
   "metadata": {},
   "outputs": [],
   "source": [
    "struct DenseLayer\n",
    "    W\n",
    "    b\n",
    "end\n",
    "function (d::DenseLayer)(x)\n",
    "    d.W * x + d.b.*x\n",
    "end"
   ]
  },
  {
   "cell_type": "code",
   "execution_count": 11,
   "metadata": {},
   "outputs": [],
   "source": [
    "function (a::Array)(i...)\n",
    "    a[i...]\n",
    "end"
   ]
  },
  {
   "cell_type": "code",
   "execution_count": 2,
   "metadata": {},
   "outputs": [
    {
     "data": {
      "text/plain": [
       "DenseLayer([0.76036 0.208176; 0.9222 0.900953], [0.24627, 0.25192])"
      ]
     },
     "execution_count": 2,
     "metadata": {},
     "output_type": "execute_result"
    }
   ],
   "source": [
    "layer = DenseLayer(rand(2,2),rand(2))"
   ]
  },
  {
   "cell_type": "code",
   "execution_count": 7,
   "metadata": {
    "scrolled": true
   },
   "outputs": [
    {
     "data": {
      "text/plain": [
       "2-element Array{Float64,1}:\n",
       " 0.9544466699036636\n",
       " 2.075073466184543 "
      ]
     },
     "execution_count": 7,
     "metadata": {},
     "output_type": "execute_result"
    }
   ],
   "source": [
    "data = [1.0,1.0]\n",
    "layer(data)"
   ]
  },
  {
   "cell_type": "markdown",
   "metadata": {},
   "source": [
    "### Exercise\n",
    "\n",
    "1. Implement the so-called bisection method for root-finding using a recursive function. Write a function which:\n",
    "    * accepts a function `f`, an interval `(a,b)`, and a tolerance `tol`\n",
    "    * asserts that f(a)<0 and f(b)>0\n",
    "    * calculates f((a+b)/2) to find out if the solution is left or right of the midpoint\n",
    "    * calls itself with a refined range as argument until `abs(midpoint) < tol`"
   ]
  },
  {
   "cell_type": "code",
   "execution_count": null,
   "metadata": {},
   "outputs": [],
   "source": []
  }
 ],
 "metadata": {
  "@webio": {
   "lastCommId": "c01b952d99e148a29e51a96d9f1f4b05",
   "lastKernelId": "c458afe2-cedb-438b-87c7-69c2d3b59a22"
  },
  "kernelspec": {
   "display_name": "Julia 1.0.2",
   "language": "julia",
   "name": "julia-1.0"
  },
  "language_info": {
   "file_extension": ".jl",
   "mimetype": "application/julia",
   "name": "julia",
   "version": "1.0.2"
  }
 },
 "nbformat": 4,
 "nbformat_minor": 2
}
