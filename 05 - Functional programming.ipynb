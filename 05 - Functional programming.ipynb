{
 "cells": [
  {
   "cell_type": "markdown",
   "metadata": {},
   "source": [
    "Functions can be passed to, and returned from other functions"
   ]
  },
  {
   "cell_type": "code",
   "execution_count": null,
   "metadata": {},
   "outputs": [],
   "source": []
  },
  {
   "cell_type": "code",
   "execution_count": null,
   "metadata": {},
   "outputs": [],
   "source": []
  },
  {
   "cell_type": "markdown",
   "metadata": {},
   "source": [
    "Functions can be chained"
   ]
  },
  {
   "cell_type": "code",
   "execution_count": null,
   "metadata": {},
   "outputs": [],
   "source": []
  },
  {
   "cell_type": "code",
   "execution_count": null,
   "metadata": {},
   "outputs": [],
   "source": []
  },
  {
   "cell_type": "markdown",
   "metadata": {},
   "source": [
    "There is special syntax for functions that take functions as their first argument"
   ]
  },
  {
   "cell_type": "code",
   "execution_count": null,
   "metadata": {},
   "outputs": [],
   "source": []
  },
  {
   "cell_type": "code",
   "execution_count": null,
   "metadata": {},
   "outputs": [],
   "source": []
  },
  {
   "cell_type": "markdown",
   "metadata": {},
   "source": [
    "Examples for functions that like map .. do syntax: \n",
    "* map, broadcast, foreach\n",
    "* open (files)\n",
    "* sum, mapreduce"
   ]
  },
  {
   "cell_type": "markdown",
   "metadata": {},
   "source": [
    "### Exercise:\n",
    "\n",
    "1. write a function that sorts a vector of strings by their second character (look at the help of the `sort` function)\n",
    "2. write a function that accepts an input function and returns another function. The returned function should, when called, always return the result of the input function multiplied by 2. \n",
    "3. Calculate the sum of the absolute values of a vector without allocating an intermediate array"
   ]
  },
  {
   "cell_type": "markdown",
   "metadata": {},
   "source": [
    "### Closures, callable objects and recursion\n",
    "\n",
    "* defining closures that hold data\n",
    "* formalize this more by making objects callable\n",
    "* recursive functions"
   ]
  },
  {
   "cell_type": "code",
   "execution_count": null,
   "metadata": {},
   "outputs": [],
   "source": [
    "f(x) = x\n",
    "g = x->-f(x)"
   ]
  },
  {
   "cell_type": "code",
   "execution_count": null,
   "metadata": {},
   "outputs": [],
   "source": [
    "g(3)"
   ]
  },
  {
   "cell_type": "markdown",
   "metadata": {},
   "source": [
    "### Exercise\n",
    "\n",
    "1. Implement the so-called bisection method for root-finding using a recursive function. Write a function which:\n",
    "    * accepts a function `f`, an interval `(a,b)`, and a tolerance `tol`\n",
    "    * asserts that f(a)<0 and f(b)>0\n",
    "    * calculates f((a+b)/2) to find out if the solution is left or right of the midpoint\n",
    "    * calls itself with a refined range as argument until `abs(midpoint) < tol`"
   ]
  },
  {
   "cell_type": "code",
   "execution_count": null,
   "metadata": {},
   "outputs": [],
   "source": []
  }
 ],
 "metadata": {
  "@webio": {
   "lastCommId": "bfa394ab686d46fe8ca0ba6466f30515",
   "lastKernelId": "d7438937-242f-45c6-a79b-5d88d4874ffd"
  },
  "kernelspec": {
   "display_name": "Julia 1.0.2",
   "language": "julia",
   "name": "julia-1.0"
  },
  "language_info": {
   "file_extension": ".jl",
   "mimetype": "application/julia",
   "name": "julia",
   "version": "1.0.2"
  }
 },
 "nbformat": 4,
 "nbformat_minor": 2
}
