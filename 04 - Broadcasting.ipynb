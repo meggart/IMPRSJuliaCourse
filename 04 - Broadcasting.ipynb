{
 "cells": [
  {
   "cell_type": "markdown",
   "metadata": {},
   "source": [
    "### Vectorization of functions\n",
    "\n",
    "* functions are typically not \"vectorized\" in Julia\n",
    "* you have to explicitly use the \"dot-notation\""
   ]
  },
  {
   "cell_type": "code",
   "execution_count": 1,
   "metadata": {},
   "outputs": [
    {
     "data": {
      "text/plain": [
       "3-element Array{Int64,1}:\n",
       " 1\n",
       " 2\n",
       " 3"
      ]
     },
     "execution_count": 1,
     "metadata": {},
     "output_type": "execute_result"
    }
   ],
   "source": [
    "x = [1,2,3]"
   ]
  },
  {
   "cell_type": "code",
   "execution_count": 3,
   "metadata": {},
   "outputs": [
    {
     "data": {
      "text/plain": [
       "3-element Array{Float64,1}:\n",
       " 0.8414709848078965\n",
       " 0.9092974268256817\n",
       " 0.1411200080598672"
      ]
     },
     "execution_count": 3,
     "metadata": {},
     "output_type": "execute_result"
    }
   ],
   "source": [
    "sin.(x) == broadcast(sin,x)"
   ]
  },
  {
   "cell_type": "code",
   "execution_count": 4,
   "metadata": {},
   "outputs": [
    {
     "name": "stdout",
     "output_type": "stream",
     "text": [
      "search: \u001b[0m\u001b[1mb\u001b[22m\u001b[0m\u001b[1mr\u001b[22m\u001b[0m\u001b[1mo\u001b[22m\u001b[0m\u001b[1ma\u001b[22m\u001b[0m\u001b[1md\u001b[22m\u001b[0m\u001b[1mc\u001b[22m\u001b[0m\u001b[1ma\u001b[22m\u001b[0m\u001b[1ms\u001b[22m\u001b[0m\u001b[1mt\u001b[22m \u001b[0m\u001b[1mb\u001b[22m\u001b[0m\u001b[1mr\u001b[22m\u001b[0m\u001b[1mo\u001b[22m\u001b[0m\u001b[1ma\u001b[22m\u001b[0m\u001b[1md\u001b[22m\u001b[0m\u001b[1mc\u001b[22m\u001b[0m\u001b[1ma\u001b[22m\u001b[0m\u001b[1ms\u001b[22m\u001b[0m\u001b[1mt\u001b[22m! \u001b[0m\u001b[1mB\u001b[22m\u001b[0m\u001b[1mr\u001b[22m\u001b[0m\u001b[1mo\u001b[22m\u001b[0m\u001b[1ma\u001b[22m\u001b[0m\u001b[1md\u001b[22m\u001b[0m\u001b[1mc\u001b[22m\u001b[0m\u001b[1ma\u001b[22m\u001b[0m\u001b[1ms\u001b[22m\u001b[0m\u001b[1mt\u001b[22m\n",
      "\n"
     ]
    },
    {
     "data": {
      "text/latex": [
       "\\begin{verbatim}\n",
       "broadcast(f, As...)\n",
       "\\end{verbatim}\n",
       "Broadcast the function \\texttt{f} over the arrays, tuples, collections, \\href{@ref}{\\texttt{Ref}}s and/or scalars \\texttt{As}.\n",
       "\n",
       "Broadcasting applies the function \\texttt{f} over the elements of the container arguments and the scalars themselves in \\texttt{As}. Singleton and missing dimensions are expanded to match the extents of the other arguments by virtually repeating the value. By default, only a limited number of types are considered scalars, including \\texttt{Number}s, \\texttt{String}s, \\texttt{Symbol}s, \\texttt{Type}s, \\texttt{Function}s and some common singletons like \\href{@ref}{\\texttt{missing}} and \\href{@ref}{\\texttt{nothing}}. All other arguments are iterated over or indexed into elementwise.\n",
       "\n",
       "The resulting container type is established by the following rules:\n",
       "\n",
       "\\begin{itemize}\n",
       "\\item If all the arguments are scalars or zero-dimensional arrays, it returns an unwrapped scalar.\n",
       "\n",
       "\n",
       "\\item If at least one argument is a tuple and all others are scalars or zero-dimensional arrays, it returns a tuple.\n",
       "\n",
       "\n",
       "\\item All other combinations of arguments default to returning an \\texttt{Array}, but custom container types can define their own implementation and promotion-like rules to customize the result when they appear as arguments.\n",
       "\n",
       "\\end{itemize}\n",
       "A special syntax exists for broadcasting: \\texttt{f.(args...)} is equivalent to \\texttt{broadcast(f, args...)}, and nested \\texttt{f.(g.(args...))} calls are fused into a single broadcast loop.\n",
       "\n",
       "\\section{Examples}\n",
       "\\begin{verbatim}\n",
       "julia> A = [1, 2, 3, 4, 5]\n",
       "5-element Array{Int64,1}:\n",
       " 1\n",
       " 2\n",
       " 3\n",
       " 4\n",
       " 5\n",
       "\n",
       "julia> B = [1 2; 3 4; 5 6; 7 8; 9 10]\n",
       "5×2 Array{Int64,2}:\n",
       " 1   2\n",
       " 3   4\n",
       " 5   6\n",
       " 7   8\n",
       " 9  10\n",
       "\n",
       "julia> broadcast(+, A, B)\n",
       "5×2 Array{Int64,2}:\n",
       "  2   3\n",
       "  5   6\n",
       "  8   9\n",
       " 11  12\n",
       " 14  15\n",
       "\n",
       "julia> parse.(Int, [\"1\", \"2\"])\n",
       "2-element Array{Int64,1}:\n",
       " 1\n",
       " 2\n",
       "\n",
       "julia> abs.((1, -2))\n",
       "(1, 2)\n",
       "\n",
       "julia> broadcast(+, 1.0, (0, -2.0))\n",
       "(1.0, -1.0)\n",
       "\n",
       "julia> (+).([[0,2], [1,3]], Ref{Vector{Int}}([1,-1]))\n",
       "2-element Array{Array{Int64,1},1}:\n",
       " [1, 1]\n",
       " [2, 2]\n",
       "\n",
       "julia> string.((\"one\",\"two\",\"three\",\"four\"), \": \", 1:4)\n",
       "4-element Array{String,1}:\n",
       " \"one: 1\"\n",
       " \"two: 2\"\n",
       " \"three: 3\"\n",
       " \"four: 4\"\n",
       "\n",
       "\\end{verbatim}\n"
      ],
      "text/markdown": [
       "```\n",
       "broadcast(f, As...)\n",
       "```\n",
       "\n",
       "Broadcast the function `f` over the arrays, tuples, collections, [`Ref`](@ref)s and/or scalars `As`.\n",
       "\n",
       "Broadcasting applies the function `f` over the elements of the container arguments and the scalars themselves in `As`. Singleton and missing dimensions are expanded to match the extents of the other arguments by virtually repeating the value. By default, only a limited number of types are considered scalars, including `Number`s, `String`s, `Symbol`s, `Type`s, `Function`s and some common singletons like [`missing`](@ref) and [`nothing`](@ref). All other arguments are iterated over or indexed into elementwise.\n",
       "\n",
       "The resulting container type is established by the following rules:\n",
       "\n",
       "  * If all the arguments are scalars or zero-dimensional arrays, it returns an unwrapped scalar.\n",
       "  * If at least one argument is a tuple and all others are scalars or zero-dimensional arrays, it returns a tuple.\n",
       "  * All other combinations of arguments default to returning an `Array`, but custom container types can define their own implementation and promotion-like rules to customize the result when they appear as arguments.\n",
       "\n",
       "A special syntax exists for broadcasting: `f.(args...)` is equivalent to `broadcast(f, args...)`, and nested `f.(g.(args...))` calls are fused into a single broadcast loop.\n",
       "\n",
       "# Examples\n",
       "\n",
       "```jldoctest\n",
       "julia> A = [1, 2, 3, 4, 5]\n",
       "5-element Array{Int64,1}:\n",
       " 1\n",
       " 2\n",
       " 3\n",
       " 4\n",
       " 5\n",
       "\n",
       "julia> B = [1 2; 3 4; 5 6; 7 8; 9 10]\n",
       "5×2 Array{Int64,2}:\n",
       " 1   2\n",
       " 3   4\n",
       " 5   6\n",
       " 7   8\n",
       " 9  10\n",
       "\n",
       "julia> broadcast(+, A, B)\n",
       "5×2 Array{Int64,2}:\n",
       "  2   3\n",
       "  5   6\n",
       "  8   9\n",
       " 11  12\n",
       " 14  15\n",
       "\n",
       "julia> parse.(Int, [\"1\", \"2\"])\n",
       "2-element Array{Int64,1}:\n",
       " 1\n",
       " 2\n",
       "\n",
       "julia> abs.((1, -2))\n",
       "(1, 2)\n",
       "\n",
       "julia> broadcast(+, 1.0, (0, -2.0))\n",
       "(1.0, -1.0)\n",
       "\n",
       "julia> (+).([[0,2], [1,3]], Ref{Vector{Int}}([1,-1]))\n",
       "2-element Array{Array{Int64,1},1}:\n",
       " [1, 1]\n",
       " [2, 2]\n",
       "\n",
       "julia> string.((\"one\",\"two\",\"three\",\"four\"), \": \", 1:4)\n",
       "4-element Array{String,1}:\n",
       " \"one: 1\"\n",
       " \"two: 2\"\n",
       " \"three: 3\"\n",
       " \"four: 4\"\n",
       "\n",
       "```\n"
      ],
      "text/plain": [
       "\u001b[36m  broadcast(f, As...)\u001b[39m\n",
       "\n",
       "  Broadcast the function \u001b[36mf\u001b[39m over the arrays, tuples, collections, \u001b[36mRef\u001b[39ms and/or\n",
       "  scalars \u001b[36mAs\u001b[39m.\n",
       "\n",
       "  Broadcasting applies the function \u001b[36mf\u001b[39m over the elements of the container\n",
       "  arguments and the scalars themselves in \u001b[36mAs\u001b[39m. Singleton and missing dimensions\n",
       "  are expanded to match the extents of the other arguments by virtually\n",
       "  repeating the value. By default, only a limited number of types are\n",
       "  considered scalars, including \u001b[36mNumber\u001b[39ms, \u001b[36mString\u001b[39ms, \u001b[36mSymbol\u001b[39ms, \u001b[36mType\u001b[39ms, \u001b[36mFunction\u001b[39ms\n",
       "  and some common singletons like \u001b[36mmissing\u001b[39m and \u001b[36mnothing\u001b[39m. All other arguments are\n",
       "  iterated over or indexed into elementwise.\n",
       "\n",
       "  The resulting container type is established by the following rules:\n",
       "\n",
       "    •    If all the arguments are scalars or zero-dimensional arrays, it\n",
       "        returns an unwrapped scalar.\n",
       "\n",
       "    •    If at least one argument is a tuple and all others are scalars or\n",
       "        zero-dimensional arrays, it returns a tuple.\n",
       "\n",
       "    •    All other combinations of arguments default to returning an \u001b[36mArray\u001b[39m,\n",
       "        but custom container types can define their own implementation and\n",
       "        promotion-like rules to customize the result when they appear as\n",
       "        arguments.\n",
       "\n",
       "  A special syntax exists for broadcasting: \u001b[36mf.(args...)\u001b[39m is equivalent to\n",
       "  \u001b[36mbroadcast(f, args...)\u001b[39m, and nested \u001b[36mf.(g.(args...))\u001b[39m calls are fused into a\n",
       "  single broadcast loop.\n",
       "\n",
       "\u001b[1m  Examples\u001b[22m\n",
       "\u001b[1m  ≡≡≡≡≡≡≡≡≡≡\u001b[22m\n",
       "\n",
       "\u001b[36m  julia> A = [1, 2, 3, 4, 5]\u001b[39m\n",
       "\u001b[36m  5-element Array{Int64,1}:\u001b[39m\n",
       "\u001b[36m   1\u001b[39m\n",
       "\u001b[36m   2\u001b[39m\n",
       "\u001b[36m   3\u001b[39m\n",
       "\u001b[36m   4\u001b[39m\n",
       "\u001b[36m   5\u001b[39m\n",
       "\u001b[36m  \u001b[39m\n",
       "\u001b[36m  julia> B = [1 2; 3 4; 5 6; 7 8; 9 10]\u001b[39m\n",
       "\u001b[36m  5×2 Array{Int64,2}:\u001b[39m\n",
       "\u001b[36m   1   2\u001b[39m\n",
       "\u001b[36m   3   4\u001b[39m\n",
       "\u001b[36m   5   6\u001b[39m\n",
       "\u001b[36m   7   8\u001b[39m\n",
       "\u001b[36m   9  10\u001b[39m\n",
       "\u001b[36m  \u001b[39m\n",
       "\u001b[36m  julia> broadcast(+, A, B)\u001b[39m\n",
       "\u001b[36m  5×2 Array{Int64,2}:\u001b[39m\n",
       "\u001b[36m    2   3\u001b[39m\n",
       "\u001b[36m    5   6\u001b[39m\n",
       "\u001b[36m    8   9\u001b[39m\n",
       "\u001b[36m   11  12\u001b[39m\n",
       "\u001b[36m   14  15\u001b[39m\n",
       "\u001b[36m  \u001b[39m\n",
       "\u001b[36m  julia> parse.(Int, [\"1\", \"2\"])\u001b[39m\n",
       "\u001b[36m  2-element Array{Int64,1}:\u001b[39m\n",
       "\u001b[36m   1\u001b[39m\n",
       "\u001b[36m   2\u001b[39m\n",
       "\u001b[36m  \u001b[39m\n",
       "\u001b[36m  julia> abs.((1, -2))\u001b[39m\n",
       "\u001b[36m  (1, 2)\u001b[39m\n",
       "\u001b[36m  \u001b[39m\n",
       "\u001b[36m  julia> broadcast(+, 1.0, (0, -2.0))\u001b[39m\n",
       "\u001b[36m  (1.0, -1.0)\u001b[39m\n",
       "\u001b[36m  \u001b[39m\n",
       "\u001b[36m  julia> (+).([[0,2], [1,3]], Ref{Vector{Int}}([1,-1]))\u001b[39m\n",
       "\u001b[36m  2-element Array{Array{Int64,1},1}:\u001b[39m\n",
       "\u001b[36m   [1, 1]\u001b[39m\n",
       "\u001b[36m   [2, 2]\u001b[39m\n",
       "\u001b[36m  \u001b[39m\n",
       "\u001b[36m  julia> string.((\"one\",\"two\",\"three\",\"four\"), \": \", 1:4)\u001b[39m\n",
       "\u001b[36m  4-element Array{String,1}:\u001b[39m\n",
       "\u001b[36m   \"one: 1\"\u001b[39m\n",
       "\u001b[36m   \"two: 2\"\u001b[39m\n",
       "\u001b[36m   \"three: 3\"\u001b[39m\n",
       "\u001b[36m   \"four: 4\"\u001b[39m\n",
       "\u001b[36m  \u001b[39m"
      ]
     },
     "execution_count": 4,
     "metadata": {},
     "output_type": "execute_result"
    }
   ],
   "source": [
    "?broadcast"
   ]
  },
  {
   "cell_type": "markdown",
   "metadata": {},
   "source": [
    "### Broadcasting different shapes\n",
    "\n",
    "* dimensions of length 1 will be extended\n",
    "* can be used e.g. to subtract columns means\n",
    "* or for outer products\n",
    "* left-hand side arrays can be written to using .="
   ]
  },
  {
   "cell_type": "code",
   "execution_count": 7,
   "metadata": {},
   "outputs": [
    {
     "data": {
      "text/plain": [
       "10×5 Array{Float64,2}:\n",
       " 1.81507  1.50386  1.98598  1.33814  1.37277\n",
       " 1.21444  1.50733  1.66818  1.02294  1.14256\n",
       " 1.42187  1.21092  1.89536  1.48548  1.1476 \n",
       " 1.68698  1.02048  1.33966  1.14762  1.74976\n",
       " 1.01351  1.57467  1.29245  1.4364   1.68125\n",
       " 1.74868  1.15224  1.19412  1.24843  1.49699\n",
       " 1.62877  1.5365   1.34366  1.12102  1.07493\n",
       " 1.17499  1.37084  1.98403  1.51868  1.39306\n",
       " 1.52285  1.38033  1.307    1.5444   1.12841\n",
       " 1.62548  1.8075   1.37483  1.96554  1.85816"
      ]
     },
     "execution_count": 7,
     "metadata": {},
     "output_type": "execute_result"
    }
   ],
   "source": [
    "x = ones(10,1)\n",
    "y = rand(10,5)\n",
    "x .+ y"
   ]
  },
  {
   "cell_type": "code",
   "execution_count": 12,
   "metadata": {},
   "outputs": [
    {
     "data": {
      "text/plain": [
       "10×5 Array{Float64,2}:\n",
       "  1.22095    0.421947   1.43103   -0.16381   -0.111511 \n",
       " -1.00258    0.436994   0.414642  -1.31819   -0.919428 \n",
       " -0.234692  -0.847182   1.14122    0.375816  -0.901741 \n",
       "  0.746755  -1.67225   -0.636007  -0.861583   1.2115   \n",
       " -1.74644    0.728725  -0.786991   0.196071   0.971067 \n",
       "  0.975177  -1.10142   -1.10148   -0.492369   0.324404 \n",
       "  0.531247   0.563345  -0.623208  -0.95898   -1.15679  \n",
       " -1.14863   -0.154348   1.42478    0.497405  -0.0403067\n",
       "  0.139142  -0.113238  -0.740446   0.591632  -0.96911  \n",
       "  0.519073   1.73743   -0.523541   2.13401    1.59191  "
      ]
     },
     "execution_count": 12,
     "metadata": {},
     "output_type": "execute_result"
    }
   ],
   "source": [
    "using Statistics\n",
    "y\n",
    "(y .- mean(y,dims=1))./std(y,dims=1)"
   ]
  },
  {
   "cell_type": "code",
   "execution_count": 15,
   "metadata": {},
   "outputs": [
    {
     "data": {
      "text/plain": [
       "10×10 Array{Int64,2}:\n",
       "  3   4   5   6   7   8   9  10  11  12\n",
       "  4   5   6   7   8   9  10  11  12  13\n",
       "  5   6   7   8   9  10  11  12  13  14\n",
       "  6   7   8   9  10  11  12  13  14  15\n",
       "  7   8   9  10  11  12  13  14  15  16\n",
       "  8   9  10  11  12  13  14  15  16  17\n",
       "  9  10  11  12  13  14  15  16  17  18\n",
       " 10  11  12  13  14  15  16  17  18  19\n",
       " 11  12  13  14  15  16  17  18  19  20\n",
       " 12  13  14  15  16  17  18  19  20  21"
      ]
     },
     "execution_count": 15,
     "metadata": {},
     "output_type": "execute_result"
    }
   ],
   "source": [
    "add(x,y) = x+y\n",
    "x = 1:10\n",
    "y = 2:11\n",
    "x .+ y'\n"
   ]
  },
  {
   "cell_type": "markdown",
   "metadata": {},
   "source": [
    "### Broadcast loop fusion"
   ]
  },
  {
   "cell_type": "code",
   "execution_count": 16,
   "metadata": {},
   "outputs": [
    {
     "data": {
      "text/plain": [
       "f (generic function with 1 method)"
      ]
     },
     "execution_count": 16,
     "metadata": {},
     "output_type": "execute_result"
    }
   ],
   "source": [
    "f(x,y,z) = sum(exp.(x .- y) .* z .- x) "
   ]
  },
  {
   "cell_type": "code",
   "execution_count": 17,
   "metadata": {},
   "outputs": [],
   "source": [
    "x,y,z = rand(1000), rand(1000), rand(1000);"
   ]
  },
  {
   "cell_type": "code",
   "execution_count": 19,
   "metadata": {},
   "outputs": [
    {
     "name": "stdout",
     "output_type": "stream",
     "text": [
      "  0.000070 seconds (6 allocations: 8.109 KiB)\n"
     ]
    },
    {
     "data": {
      "text/plain": [
       "51.88503188008711"
      ]
     },
     "execution_count": 19,
     "metadata": {},
     "output_type": "execute_result"
    }
   ],
   "source": [
    "@time f(x,y,z)"
   ]
  },
  {
   "cell_type": "markdown",
   "metadata": {},
   "source": [
    "### Exercises\n",
    "\n",
    "1. Try broadcasting some functions"
   ]
  },
  {
   "cell_type": "code",
   "execution_count": null,
   "metadata": {},
   "outputs": [],
   "source": []
  }
 ],
 "metadata": {
  "@webio": {
   "lastCommId": "c36690ad6b094218a4e1d893cc4d66a4",
   "lastKernelId": "33862a15-6d9f-4a01-be59-3ef37a09153f"
  },
  "kernelspec": {
   "display_name": "Julia 1.0.2",
   "language": "julia",
   "name": "julia-1.0"
  },
  "language_info": {
   "file_extension": ".jl",
   "mimetype": "application/julia",
   "name": "julia",
   "version": "1.0.2"
  }
 },
 "nbformat": 4,
 "nbformat_minor": 2
}
