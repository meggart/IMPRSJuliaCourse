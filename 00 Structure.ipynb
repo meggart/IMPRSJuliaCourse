{
 "cells": [
  {
   "cell_type": "markdown",
   "metadata": {},
   "source": [
    "# Wednesday\n",
    "\n",
    "### 1. Intro - What is Julia\n",
    "\n",
    "* general syntax impressions\n",
    "* difference between statically and dynamically typed languages\n",
    "* how Julia works and compiles code\n",
    "* quick impression of where Julia can be powerful\n",
    "* some downsides\n",
    "\n",
    "### 2. Packages and environments\n",
    "\n",
    "* How to use the package manager\n",
    "\n",
    "### 3. Multiple dispatch\n",
    "\n",
    "* Differences to object-oriented languages\n",
    "\n",
    "### 4. Broadcasting\n",
    "\n",
    "* how to vectorize your functions\n",
    "* some nice code shortcuts\n",
    "\n",
    "### 5. Functional programming\n",
    "\n",
    "* think small before you think big\n",
    "* *do* syntax\n",
    "\n",
    "### 6. Interfaces\n",
    "\n",
    "* Iteration\n",
    "* Abstract Arrays\n",
    "\n",
    "### 7. Performance remarks\n",
    "\n",
    "* global vs local scope\n",
    "* type stability\n",
    "* memory allocations\n",
    "* warning premature optimization\n",
    "* Tuples and Arrays\n",
    "* Profile and ProfileView\n",
    "* Vectorization\n",
    "\n",
    "### 8. Loading data and Plotting\n",
    "\n",
    "* CSV, DataFrames, the Table interface\n",
    "\n",
    "\n",
    "# Thursday\n",
    "\n",
    "## Solving differential equations and parameter optimization\n",
    "\n",
    "* Introduction to the Differential Equations package\n",
    "* Introduction to the Optim package\n",
    "* Solving the 1D heat diffusion equation\n",
    "\n"
   ]
  },
  {
   "cell_type": "markdown",
   "metadata": {},
   "source": [
    "## Setup"
   ]
  },
  {
   "cell_type": "code",
   "execution_count": 1,
   "metadata": {},
   "outputs": [],
   "source": [
    "using Pkg\n",
    "Pkg.GitTools.clone(\"https://github.com/meggart/IMPRSJuliaCourse\",\"JuliaCourse\")\n",
    "cd(\"JuliaCourse\")"
   ]
  },
  {
   "cell_type": "code",
   "execution_count": null,
   "metadata": {},
   "outputs": [],
   "source": [
    "Pkg.add(\"IJulia\")\n",
    "notebook()"
   ]
  }
 ],
 "metadata": {
  "@webio": {
   "lastCommId": "cc04d7a871294b80894cf3ce5df93651",
   "lastKernelId": "624c3ef7-4014-4a32-8db5-9e523f1454c1"
  },
  "kernelspec": {
   "display_name": "Julia 1.0.2",
   "language": "julia",
   "name": "julia-1.0"
  },
  "language_info": {
   "file_extension": ".jl",
   "mimetype": "application/julia",
   "name": "julia",
   "version": "1.0.2"
  }
 },
 "nbformat": 4,
 "nbformat_minor": 2
}
