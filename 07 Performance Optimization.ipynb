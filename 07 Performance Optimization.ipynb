{
 "cells": [
  {
   "cell_type": "markdown",
   "metadata": {},
   "source": [
    "### Performance remarks\n",
    "\n",
    "* global vs local scope\n",
    "* type stability\n",
    "* memory allocations\n",
    "* warning premature optimization\n",
    "* Tuples and Arrays\n",
    "* type struct fields but not function arguments\n",
    "* Profile and ProfileView\n",
    "* Vectorization -> not relevant for Julia"
   ]
  },
  {
   "cell_type": "code",
   "execution_count": 30,
   "metadata": {},
   "outputs": [
    {
     "data": {
      "text/plain": [
       "mysum (generic function with 1 method)"
      ]
     },
     "execution_count": 30,
     "metadata": {},
     "output_type": "execute_result"
    }
   ],
   "source": [
    "n,m = 10000,100\n",
    "a = rand(n,m)\n",
    "function mysum(a)\n",
    "    s = zero(eltype(a))\n",
    "    @simd for el in a\n",
    "        s = s + el\n",
    "    end\n",
    "    s\n",
    "end"
   ]
  },
  {
   "cell_type": "code",
   "execution_count": 32,
   "metadata": {},
   "outputs": [
    {
     "name": "stdout",
     "output_type": "stream",
     "text": [
      "  0.001276 seconds (5 allocations: 176 bytes)\n"
     ]
    },
    {
     "data": {
      "text/plain": [
       "499961.1704976735"
      ]
     },
     "execution_count": 32,
     "metadata": {},
     "output_type": "execute_result"
    }
   ],
   "source": [
    "@time mysum(a)"
   ]
  },
  {
   "cell_type": "code",
   "execution_count": 36,
   "metadata": {},
   "outputs": [
    {
     "data": {
      "text/html": [
       "sum(a::<b>AbstractArray</b>) in Base at <a href=\"https://github.com/JuliaLang/julia/tree/d789231e9985537686052db9b2314c0d51656308/base/reducedim.jl#L645\" target=\"_blank\">reducedim.jl:645</a>"
      ],
      "text/plain": [
       "sum(a::AbstractArray) in Base at reducedim.jl:645"
      ]
     },
     "execution_count": 36,
     "metadata": {},
     "output_type": "execute_result"
    }
   ],
   "source": [
    "@which sum(a)"
   ]
  },
  {
   "cell_type": "markdown",
   "metadata": {},
   "source": [
    "**Always put performance-critical code into functions**"
   ]
  },
  {
   "cell_type": "markdown",
   "metadata": {},
   "source": [
    "### Type stability"
   ]
  },
  {
   "cell_type": "code",
   "execution_count": null,
   "metadata": {},
   "outputs": [],
   "source": []
  },
  {
   "cell_type": "markdown",
   "metadata": {},
   "source": [
    "*Use code_warntype to spot type instabilities*"
   ]
  },
  {
   "cell_type": "code",
   "execution_count": null,
   "metadata": {},
   "outputs": [],
   "source": []
  },
  {
   "cell_type": "markdown",
   "metadata": {},
   "source": [
    "### Cache efficiency"
   ]
  },
  {
   "cell_type": "code",
   "execution_count": null,
   "metadata": {},
   "outputs": [],
   "source": []
  },
  {
   "cell_type": "markdown",
   "metadata": {},
   "source": [
    "### Memory allocations"
   ]
  },
  {
   "cell_type": "code",
   "execution_count": 66,
   "metadata": {},
   "outputs": [
    {
     "data": {
      "text/plain": [
       "colsum3 (generic function with 1 method)"
      ]
     },
     "execution_count": 66,
     "metadata": {},
     "output_type": "execute_result"
    }
   ],
   "source": [
    "n,m = 100,100000\n",
    "a = rand(n,m)\n",
    "function colsum(a)\n",
    "    n,m = size(a)\n",
    "    s = zeros(eltype(a),m)\n",
    "    for i_m = 1:m\n",
    "        s[i_m] = sum(view(a,:,i_m))\n",
    "    end\n",
    "    s\n",
    "end\n",
    "function colsum2(a)\n",
    "    n,m = size(a)\n",
    "    s = zeros(eltype(a),m)\n",
    "    for i_m = 1:m\n",
    "        s[i_m] = sum(a[:,i_m])\n",
    "    end\n",
    "    s\n",
    "end\n",
    "function colsum3(a)\n",
    "    n,m = size(a)\n",
    "    s = zeros(eltype(a),m)\n",
    "    for i_m = 1:m\n",
    "        @simd for i_n = 1:n\n",
    "            s[i_m] += a[i_n,i_m]\n",
    "        end\n",
    "    end\n",
    "    s\n",
    "end"
   ]
  },
  {
   "cell_type": "code",
   "execution_count": 69,
   "metadata": {},
   "outputs": [
    {
     "name": "stdout",
     "output_type": "stream",
     "text": [
      "  14.285 ms (100002 allocations: 5.34 MiB)\n",
      "  94.177 ms (2 allocations: 781.33 KiB)\n"
     ]
    }
   ],
   "source": [
    "using BenchmarkTools\n",
    "@btime colsum(a)\n",
    "@btime colsum3(a);"
   ]
  },
  {
   "cell_type": "code",
   "execution_count": 40,
   "metadata": {},
   "outputs": [
    {
     "data": {
      "text/plain": [
       "dosomething (generic function with 1 method)"
      ]
     },
     "execution_count": 40,
     "metadata": {},
     "output_type": "execute_result"
    }
   ],
   "source": [
    "a = rand(10)\n",
    "function dosomething()\n",
    "    if rand()<0.5\n",
    "        a = [1.0,1.0]\n",
    "    else\n",
    "        a = [1,1]\n",
    "    end\n",
    "\n",
    "    for ia in a\n",
    "        b =ia \n",
    "    end\n",
    "    b\n",
    "end"
   ]
  },
  {
   "cell_type": "code",
   "execution_count": 41,
   "metadata": {},
   "outputs": [
    {
     "name": "stdout",
     "output_type": "stream",
     "text": [
      "Body\u001b[91m\u001b[1m::Any\u001b[22m\u001b[39m\n",
      "\u001b[90m\u001b[44G│╻          rand\u001b[1G\u001b[39m\u001b[90m3  \u001b[39m1 ── %1   = Random.GLOBAL_RNG\u001b[36m::Random.MersenneTwister\u001b[39m\n",
      "\u001b[90m\u001b[44G││╻╷╷╷╷╷     rand\u001b[1G\u001b[39m\u001b[90m   \u001b[39m│    %2   = (Base.getfield)(%1, :idxF)\u001b[36m::Int64\u001b[39m\n",
      "\u001b[90m\u001b[44G│││┃││││      rand\u001b[1G\u001b[39m\u001b[90m   \u001b[39m│    %3   = Random.MT_CACHE_F\u001b[36m::Int64\u001b[39m\n",
      "\u001b[90m\u001b[44G││││┃││││      rand\u001b[1G\u001b[39m\u001b[90m   \u001b[39m│    %4   = (%2 === %3)\u001b[36m::Bool\u001b[39m\n",
      "\u001b[90m\u001b[44G│││││┃│         rand\u001b[1G\u001b[39m\u001b[90m   \u001b[39m└───        goto #3 if not %4\n",
      "\u001b[90m\u001b[44G││││││┃│╷        reserve_1\u001b[1G\u001b[39m\u001b[90m   \u001b[39m2 ── %6   = $(Expr(:gc_preserve_begin, :(%1)))\n",
      "\u001b[90m\u001b[44G│││││││╻          gen_rand\u001b[1G\u001b[39m\u001b[90m   \u001b[39m│    %7   = (Base.getfield)(%1, :state)\u001b[36m::Random.DSFMT.DSFMT_state\u001b[39m\n",
      "\u001b[90m\u001b[44G││││││││┃│         macro expansion\u001b[1G\u001b[39m\u001b[90m   \u001b[39m│    %8   = (Base.getfield)(%1, :vals)\u001b[36m::Array{Float64,1}\u001b[39m\n",
      "\u001b[90m\u001b[44G│││││││││╻          pointer\u001b[1G\u001b[39m\u001b[90m   \u001b[39m│    %9   = $(Expr(:foreigncall, :(:jl_array_ptr), Ptr{Float64}, svec(Any), :(:ccall), 1, :(%8)))\u001b[36m::Ptr{Float64}\u001b[39m\n",
      "\u001b[90m\u001b[44G│││││││││╻          getproperty\u001b[1G\u001b[39m\u001b[90m   \u001b[39m│    %10  = (Base.getfield)(%1, :vals)\u001b[36m::Array{Float64,1}\u001b[39m\n",
      "\u001b[90m\u001b[44G│││││││││╻          length\u001b[1G\u001b[39m\u001b[90m   \u001b[39m│    %11  = (Base.arraylen)(%10)\u001b[36m::Int64\u001b[39m\n",
      "\u001b[90m\u001b[44G│││││││││  \u001b[1G\u001b[39m\u001b[90m   \u001b[39m│           invoke Random.dsfmt_fill_array_close1_open2!(%7::Random.DSFMT.DSFMT_state, %9::Ptr{Float64}, %11::Int64)\n",
      "\u001b[90m\u001b[44G│││││││││  \u001b[1G\u001b[39m\u001b[90m   \u001b[39m│           $(Expr(:gc_preserve_end, :(%6)))\n",
      "\u001b[90m\u001b[44G│││││││││╻╷         mt_setfull!\u001b[1G\u001b[39m\u001b[90m   \u001b[39m└───        (Base.setfield!)(%1, :idxF, 0)\n",
      "\u001b[90m\u001b[44G││││││╻          reserve_1\u001b[1G\u001b[39m\u001b[90m   \u001b[39m3 ──        goto #4\n",
      "\u001b[90m\u001b[44G││││││╻╷╷        rand_inbounds\u001b[1G\u001b[39m\u001b[90m   \u001b[39m4 ── %16  = (Base.getfield)(%1, :vals)\u001b[36m::Array{Float64,1}\u001b[39m\n",
      "\u001b[90m\u001b[44G│││││││┃│         mt_pop!\u001b[1G\u001b[39m\u001b[90m   \u001b[39m│    %17  = (Base.getfield)(%1, :idxF)\u001b[36m::Int64\u001b[39m\n",
      "\u001b[90m\u001b[44G││││││││╻          +\u001b[1G\u001b[39m\u001b[90m   \u001b[39m│    %18  = (Base.add_int)(%17, 1)\u001b[36m::Int64\u001b[39m\n",
      "\u001b[90m\u001b[44G││││││││╻          setproperty!\u001b[1G\u001b[39m\u001b[90m   \u001b[39m│           (Base.setfield!)(%1, :idxF, %18)\n",
      "\u001b[90m\u001b[44G││││││││╻          getindex\u001b[1G\u001b[39m\u001b[90m   \u001b[39m│    %20  = (Base.arrayref)(false, %16, %18)\u001b[36m::Float64\u001b[39m\n",
      "\u001b[90m\u001b[44G││││││││   \u001b[1G\u001b[39m\u001b[90m   \u001b[39m└───        goto #6\n",
      "\u001b[90m\u001b[44G││││││││   \u001b[1G\u001b[39m\u001b[90m   \u001b[39m5 ──        $(Expr(:unreachable))\n",
      "\u001b[90m\u001b[44G│││││││    \u001b[1G\u001b[39m\u001b[90m   \u001b[39m6 ┄─        goto #7\n",
      "\u001b[90m\u001b[44G││││││     \u001b[1G\u001b[39m\u001b[90m   \u001b[39m7 ──        goto #8\n",
      "\u001b[90m\u001b[44G│││││      \u001b[1G\u001b[39m\u001b[90m   \u001b[39m8 ──        goto #9\n",
      "\u001b[90m\u001b[44G││││╻          -\u001b[1G\u001b[39m\u001b[90m   \u001b[39m9 ── %26  = (Base.sub_float)(%20, 1.0)\u001b[36m::Float64\u001b[39m\n",
      "\u001b[90m\u001b[44G││││       \u001b[1G\u001b[39m\u001b[90m   \u001b[39m└───        goto #10\n",
      "\u001b[90m\u001b[44G│││        \u001b[1G\u001b[39m\u001b[90m   \u001b[39m10 ─        goto #11\n",
      "\u001b[90m\u001b[44G││         \u001b[1G\u001b[39m\u001b[90m   \u001b[39m11 ─        goto #12\n",
      "\u001b[90m\u001b[44G│╻          <\u001b[1G\u001b[39m\u001b[90m   \u001b[39m12 ─ %30  = (Base.lt_float)(%26, 0.5)\u001b[36m::Bool\u001b[39m\n",
      "\u001b[90m\u001b[44G│          \u001b[1G\u001b[39m\u001b[90m   \u001b[39m└───        goto #14 if not %30\n",
      "\u001b[90m\u001b[44G│          \u001b[1G\u001b[39m\u001b[90m4  \u001b[39m13 ─ %32  = invoke Base.vect(1.0::Float64, 1.0::Vararg{Float64,N} where N)\u001b[36m::Array{Float64,1}\u001b[39m\n",
      "\u001b[90m\u001b[44G│          \u001b[1G\u001b[39m\u001b[90m   \u001b[39m└───        goto #15\n",
      "\u001b[90m\u001b[44G│          \u001b[1G\u001b[39m\u001b[90m6  \u001b[39m14 ─ %34  = invoke Base.vect(1::Int64, 1::Vararg{Int64,N} where N)\u001b[36m::Array{Int64,1}\u001b[39m\n",
      "\u001b[90m\u001b[44G│          \u001b[1G\u001b[39m\u001b[90m9  \u001b[39m15 ┄ %35  = φ (#13 => %32, #14 => %34)\u001b[91m\u001b[1m::Union{Array{Float64,1}, Array{Int64,1}}\u001b[22m\u001b[39m\n",
      "\u001b[90m\u001b[44G│          \u001b[1G\u001b[39m\u001b[90m   \u001b[39m│    %36  = (isa)(%35, Array{Float64,1})\u001b[36m::Bool\u001b[39m\n",
      "\u001b[90m\u001b[44G│          \u001b[1G\u001b[39m\u001b[90m   \u001b[39m└───        goto #21 if not %36\n",
      "\u001b[90m\u001b[44G│          \u001b[1G\u001b[39m\u001b[90m   \u001b[39m16 ─ %38  = π (%35, \u001b[36mArray{Float64,1}\u001b[39m)\n",
      "\u001b[90m\u001b[44G││╻╷         iterate\u001b[1G\u001b[39m\u001b[90m   \u001b[39m│    %39  = (Base.arraylen)(%38)\u001b[36m::Int64\u001b[39m\n",
      "\u001b[90m\u001b[44G│││╻╷         <\u001b[1G\u001b[39m\u001b[90m   \u001b[39m│    %40  = (Base.sle_int)(0, %39)\u001b[36m::Bool\u001b[39m\n",
      "\u001b[90m\u001b[44G││││╻          unsigned\u001b[1G\u001b[39m\u001b[90m   \u001b[39m│    %41  = (Base.bitcast)(UInt64, %39)\u001b[36m::UInt64\u001b[39m\n",
      "\u001b[90m\u001b[44G││││╻          <\u001b[1G\u001b[39m\u001b[90m   \u001b[39m│    %42  = (Base.ult_int)(0x0000000000000000, %41)\u001b[36m::Bool\u001b[39m\n",
      "\u001b[90m\u001b[44G││││╻          &\u001b[1G\u001b[39m\u001b[90m   \u001b[39m│    %43  = (Base.and_int)(%40, %42)\u001b[36m::Bool\u001b[39m\n",
      "\u001b[90m\u001b[44G│││        \u001b[1G\u001b[39m\u001b[90m   \u001b[39m└───        goto #18 if not %43\n",
      "\u001b[90m\u001b[44G│││╻          getindex\u001b[1G\u001b[39m\u001b[90m   \u001b[39m17 ─        (Base.arrayref)(false, %38, 1)\n",
      "\u001b[90m\u001b[44G│││        \u001b[1G\u001b[39m\u001b[90m   \u001b[39m└───        goto #19\n",
      "\u001b[90m\u001b[44G│││        \u001b[1G\u001b[39m\u001b[90m   \u001b[39m18 ─        goto #19\n",
      "\u001b[90m\u001b[44G││         \u001b[1G\u001b[39m\u001b[90m   \u001b[39m19 ┄ %48  = φ (#17 => false, #18 => true)\u001b[36m::Bool\u001b[39m\n",
      "\u001b[90m\u001b[44G││         \u001b[1G\u001b[39m\u001b[90m   \u001b[39m│    %49  = φ (#17 => 2)\u001b[36m::Int64\u001b[39m\n",
      "\u001b[90m\u001b[44G││         \u001b[1G\u001b[39m\u001b[90m   \u001b[39m└───        goto #20\n",
      "\u001b[90m\u001b[44G│          \u001b[1G\u001b[39m\u001b[90m   \u001b[39m20 ─        goto #28\n",
      "\u001b[90m\u001b[44G│          \u001b[1G\u001b[39m\u001b[90m   \u001b[39m21 ─ %52  = (isa)(%35, Array{Int64,1})\u001b[36m::Bool\u001b[39m\n",
      "\u001b[90m\u001b[44G│          \u001b[1G\u001b[39m\u001b[90m   \u001b[39m└───        goto #27 if not %52\n",
      "\u001b[90m\u001b[44G│          \u001b[1G\u001b[39m\u001b[90m   \u001b[39m22 ─ %54  = π (%35, \u001b[36mArray{Int64,1}\u001b[39m)\n",
      "\u001b[90m\u001b[44G││╻╷         iterate\u001b[1G\u001b[39m\u001b[90m   \u001b[39m│    %55  = (Base.arraylen)(%54)\u001b[36m::Int64\u001b[39m\n",
      "\u001b[90m\u001b[44G│││╻╷         <\u001b[1G\u001b[39m\u001b[90m   \u001b[39m│    %56  = (Base.sle_int)(0, %55)\u001b[36m::Bool\u001b[39m\n",
      "\u001b[90m\u001b[44G││││╻          unsigned\u001b[1G\u001b[39m\u001b[90m   \u001b[39m│    %57  = (Base.bitcast)(UInt64, %55)\u001b[36m::UInt64\u001b[39m\n",
      "\u001b[90m\u001b[44G││││╻          <\u001b[1G\u001b[39m\u001b[90m   \u001b[39m│    %58  = (Base.ult_int)(0x0000000000000000, %57)\u001b[36m::Bool\u001b[39m\n",
      "\u001b[90m\u001b[44G││││╻          &\u001b[1G\u001b[39m\u001b[90m   \u001b[39m│    %59  = (Base.and_int)(%56, %58)\u001b[36m::Bool\u001b[39m\n",
      "\u001b[90m\u001b[44G│││        \u001b[1G\u001b[39m\u001b[90m   \u001b[39m└───        goto #24 if not %59\n",
      "\u001b[90m\u001b[44G│││╻          getindex\u001b[1G\u001b[39m\u001b[90m   \u001b[39m23 ─        (Base.arrayref)(false, %54, 1)\n",
      "\u001b[90m\u001b[44G│││        \u001b[1G\u001b[39m\u001b[90m   \u001b[39m└───        goto #25\n",
      "\u001b[90m\u001b[44G│││        \u001b[1G\u001b[39m\u001b[90m   \u001b[39m24 ─        goto #25\n",
      "\u001b[90m\u001b[44G││         \u001b[1G\u001b[39m\u001b[90m   \u001b[39m25 ┄ %64  = φ (#23 => false, #24 => true)\u001b[36m::Bool\u001b[39m\n",
      "\u001b[90m\u001b[44G││         \u001b[1G\u001b[39m\u001b[90m   \u001b[39m│    %65  = φ (#23 => 2)\u001b[36m::Int64\u001b[39m\n",
      "\u001b[90m\u001b[44G││         \u001b[1G\u001b[39m\u001b[90m   \u001b[39m└───        goto #26\n",
      "\u001b[90m\u001b[44G│          \u001b[1G\u001b[39m\u001b[90m   \u001b[39m26 ─        goto #28\n",
      "\u001b[90m\u001b[44G│          \u001b[1G\u001b[39m\u001b[90m   \u001b[39m27 ─        (Core.throw)(ErrorException(\"fatal error in type inference (type bound)\"))\n",
      "\u001b[90m\u001b[44G│          \u001b[1G\u001b[39m\u001b[90m   \u001b[39m└───        $(Expr(:unreachable))\n",
      "\u001b[90m\u001b[44G│          \u001b[1G\u001b[39m\u001b[90m   \u001b[39m28 ┄ %70  = φ (#20 => %48, #26 => %64)\u001b[36m::Bool\u001b[39m\n",
      "\u001b[90m\u001b[44G│          \u001b[1G\u001b[39m\u001b[90m   \u001b[39m│    %71  = φ (#20 => %49, #26 => %65)\u001b[36m::Int64\u001b[39m\n",
      "\u001b[90m\u001b[44G│          \u001b[1G\u001b[39m\u001b[90m   \u001b[39m│    %72  = (Base.not_int)(%70)\u001b[36m::Bool\u001b[39m\n",
      "\u001b[90m\u001b[44G│          \u001b[1G\u001b[39m\u001b[90m   \u001b[39m└───        goto #42 if not %72\n",
      "\u001b[90m\u001b[44G│          \u001b[1G\u001b[39m\u001b[90m   \u001b[39m29 ┄ %74  = φ (#28 => %71, #41 => %115)\u001b[36m::Int64\u001b[39m\n",
      "\u001b[90m\u001b[44G│          \u001b[1G\u001b[39m\u001b[90m10 \u001b[39m│    %75  = (isa)(%35, Array{Float64,1})\u001b[36m::Bool\u001b[39m\n",
      "\u001b[90m\u001b[44G│          \u001b[1G\u001b[39m\u001b[90m   \u001b[39m└───        goto #34 if not %75\n",
      "\u001b[90m\u001b[44G│          \u001b[1G\u001b[39m\u001b[90m   \u001b[39m30 ─ %77  = π (%35, \u001b[36mArray{Float64,1}\u001b[39m)\n",
      "\u001b[90m\u001b[44G││╻          rem\u001b[1G\u001b[39m\u001b[90m   \u001b[39m│    %78  = (Base.bitcast)(UInt64, %74)\u001b[36m::UInt64\u001b[39m\n",
      "\u001b[90m\u001b[44G││╻          -\u001b[1G\u001b[39m\u001b[90m   \u001b[39m│    %79  = π (0x0000000000000001, \u001b[36mUInt64\u001b[39m)\n",
      "\u001b[90m\u001b[44G│││╻          -\u001b[1G\u001b[39m\u001b[90m   \u001b[39m│    %80  = (Base.sub_int)(%78, %79)\u001b[36m::UInt64\u001b[39m\n",
      "\u001b[90m\u001b[44G││╻          length\u001b[1G\u001b[39m\u001b[90m   \u001b[39m│    %81  = (Base.arraylen)(%77)\u001b[36m::Int64\u001b[39m\n",
      "\u001b[90m\u001b[44G│││╻╷         >=\u001b[1G\u001b[39m\u001b[90m   \u001b[39m│    %82  = (Base.sle_int)(0, %81)\u001b[36m::Bool\u001b[39m\n",
      "\u001b[90m\u001b[44G││││╻          reinterpret\u001b[1G\u001b[39m\u001b[90m   \u001b[39m│    %83  = (Base.bitcast)(UInt64, %81)\u001b[36m::UInt64\u001b[39m\n",
      "\u001b[90m\u001b[44G│││╻          <\u001b[1G\u001b[39m\u001b[90m   \u001b[39m│    %84  = (Base.ult_int)(%80, %83)\u001b[36m::Bool\u001b[39m\n",
      "\u001b[90m\u001b[44G│││╻          &\u001b[1G\u001b[39m\u001b[90m   \u001b[39m│    %85  = (Base.and_int)(%82, %84)\u001b[36m::Bool\u001b[39m\n",
      "\u001b[90m\u001b[44G││         \u001b[1G\u001b[39m\u001b[90m   \u001b[39m└───        goto #32 if not %85\n",
      "\u001b[90m\u001b[44G││╻          getindex\u001b[1G\u001b[39m\u001b[90m   \u001b[39m31 ─        (Base.arrayref)(false, %77, %74)\n",
      "\u001b[90m\u001b[44G││╻          +\u001b[1G\u001b[39m\u001b[90m   \u001b[39m│    %88  = (Base.add_int)(%74, 1)\u001b[36m::Int64\u001b[39m\n",
      "\u001b[90m\u001b[44G││         \u001b[1G\u001b[39m\u001b[90m   \u001b[39m└───        goto #33\n",
      "\u001b[90m\u001b[44G││         \u001b[1G\u001b[39m\u001b[90m   \u001b[39m32 ─        goto #33\n",
      "\u001b[90m\u001b[44G│          \u001b[1G\u001b[39m\u001b[90m   \u001b[39m33 ┄ %91  = φ (#31 => %88)\u001b[36m::Int64\u001b[39m\n",
      "\u001b[90m\u001b[44G│          \u001b[1G\u001b[39m\u001b[90m   \u001b[39m│    %92  = φ (#31 => false, #32 => true)\u001b[36m::Bool\u001b[39m\n",
      "\u001b[90m\u001b[44G│          \u001b[1G\u001b[39m\u001b[90m   \u001b[39m└───        goto #40\n",
      "\u001b[90m\u001b[44G│          \u001b[1G\u001b[39m\u001b[90m   \u001b[39m34 ─ %94  = (isa)(%35, Array{Int64,1})\u001b[36m::Bool\u001b[39m\n",
      "\u001b[90m\u001b[44G│          \u001b[1G\u001b[39m\u001b[90m   \u001b[39m└───        goto #39 if not %94\n",
      "\u001b[90m\u001b[44G│          \u001b[1G\u001b[39m\u001b[90m   \u001b[39m35 ─ %96  = π (%35, \u001b[36mArray{Int64,1}\u001b[39m)\n",
      "\u001b[90m\u001b[44G││╻          rem\u001b[1G\u001b[39m\u001b[90m   \u001b[39m│    %97  = (Base.bitcast)(UInt64, %74)\u001b[36m::UInt64\u001b[39m\n",
      "\u001b[90m\u001b[44G││╻          -\u001b[1G\u001b[39m\u001b[90m   \u001b[39m│    %98  = π (0x0000000000000001, \u001b[36mUInt64\u001b[39m)\n",
      "\u001b[90m\u001b[44G│││╻          -\u001b[1G\u001b[39m\u001b[90m   \u001b[39m│    %99  = (Base.sub_int)(%97, %98)\u001b[36m::UInt64\u001b[39m\n",
      "\u001b[90m\u001b[44G││╻          length\u001b[1G\u001b[39m\u001b[90m   \u001b[39m│    %100 = (Base.arraylen)(%96)\u001b[36m::Int64\u001b[39m\n",
      "\u001b[90m\u001b[44G│││╻╷         >=\u001b[1G\u001b[39m\u001b[90m   \u001b[39m│    %101 = (Base.sle_int)(0, %100)\u001b[36m::Bool\u001b[39m\n",
      "\u001b[90m\u001b[44G││││╻          reinterpret\u001b[1G\u001b[39m\u001b[90m   \u001b[39m│    %102 = (Base.bitcast)(UInt64, %100)\u001b[36m::UInt64\u001b[39m\n",
      "\u001b[90m\u001b[44G│││╻          <\u001b[1G\u001b[39m\u001b[90m   \u001b[39m│    %103 = (Base.ult_int)(%99, %102)\u001b[36m::Bool\u001b[39m\n",
      "\u001b[90m\u001b[44G│││╻          &\u001b[1G\u001b[39m\u001b[90m   \u001b[39m│    %104 = (Base.and_int)(%101, %103)\u001b[36m::Bool\u001b[39m\n",
      "\u001b[90m\u001b[44G││         \u001b[1G\u001b[39m\u001b[90m   \u001b[39m└───        goto #37 if not %104\n",
      "\u001b[90m\u001b[44G││╻          getindex\u001b[1G\u001b[39m\u001b[90m   \u001b[39m36 ─        (Base.arrayref)(false, %96, %74)\n",
      "\u001b[90m\u001b[44G││╻          +\u001b[1G\u001b[39m\u001b[90m   \u001b[39m│    %107 = (Base.add_int)(%74, 1)\u001b[36m::Int64\u001b[39m\n",
      "\u001b[90m\u001b[44G││         \u001b[1G\u001b[39m\u001b[90m   \u001b[39m└───        goto #38\n",
      "\u001b[90m\u001b[44G││         \u001b[1G\u001b[39m\u001b[90m   \u001b[39m37 ─        goto #38\n",
      "\u001b[90m\u001b[44G│          \u001b[1G\u001b[39m\u001b[90m   \u001b[39m38 ┄ %110 = φ (#36 => %107)\u001b[36m::Int64\u001b[39m\n",
      "\u001b[90m\u001b[44G│          \u001b[1G\u001b[39m\u001b[90m   \u001b[39m│    %111 = φ (#36 => false, #37 => true)\u001b[36m::Bool\u001b[39m\n",
      "\u001b[90m\u001b[44G│          \u001b[1G\u001b[39m\u001b[90m   \u001b[39m└───        goto #40\n",
      "\u001b[90m\u001b[44G│          \u001b[1G\u001b[39m\u001b[90m   \u001b[39m39 ─        (Core.throw)(ErrorException(\"fatal error in type inference (type bound)\"))\n",
      "\u001b[90m\u001b[44G│          \u001b[1G\u001b[39m\u001b[90m   \u001b[39m└───        $(Expr(:unreachable))\n",
      "\u001b[90m\u001b[44G│          \u001b[1G\u001b[39m\u001b[90m   \u001b[39m40 ┄ %115 = φ (#33 => %91, #38 => %110)\u001b[36m::Int64\u001b[39m\n",
      "\u001b[90m\u001b[44G│          \u001b[1G\u001b[39m\u001b[90m   \u001b[39m│    %116 = φ (#33 => %92, #38 => %111)\u001b[36m::Bool\u001b[39m\n",
      "\u001b[90m\u001b[44G│          \u001b[1G\u001b[39m\u001b[90m   \u001b[39m│    %117 = (Base.not_int)(%116)\u001b[36m::Bool\u001b[39m\n"
     ]
    },
    {
     "name": "stdout",
     "output_type": "stream",
     "text": [
      "\u001b[90m\u001b[44G│          \u001b[1G\u001b[39m\u001b[90m   \u001b[39m└───        goto #42 if not %117\n",
      "\u001b[90m\u001b[44G│          \u001b[1G\u001b[39m\u001b[90m   \u001b[39m41 ─        goto #29\n",
      "\u001b[90m\u001b[44G│          \u001b[1G\u001b[39m\u001b[90m12 \u001b[39m42 ─        return Main.b\n"
     ]
    }
   ],
   "source": [
    "@code_warntype dosomething()"
   ]
  },
  {
   "cell_type": "markdown",
   "metadata": {},
   "source": [
    "### Additional tips\n",
    "\n",
    "* Use mutating forms of functions\n",
    "* Use functional form of reductions"
   ]
  },
  {
   "cell_type": "code",
   "execution_count": 72,
   "metadata": {},
   "outputs": [
    {
     "data": {
      "text/plain": [
       "10000-element Array{Float64,1}:\n",
       " 1.3883558455107803e-5\n",
       " 5.6604690438000205e-5\n",
       " 0.0005575192030908838\n",
       " 0.000738246141811949 \n",
       " 0.0008507676806963627\n",
       " 0.0008914074820833839\n",
       " 0.0010088300582937748\n",
       " 0.0010271315316172647\n",
       " 0.001037274153034673 \n",
       " 0.0011415070098375057\n",
       " 0.0011539138914347102\n",
       " 0.0012038245127756753\n",
       " 0.0012297237868841293\n",
       " ⋮                    \n",
       " 0.9989860613566759   \n",
       " 0.9989911506307019   \n",
       " 0.9990080084515858   \n",
       " 0.9991901037248367   \n",
       " 0.9991912531659881   \n",
       " 0.9993670073790266   \n",
       " 0.9994944602921907   \n",
       " 0.9995723673831312   \n",
       " 0.9997367301949187   \n",
       " 0.9997961802796427   \n",
       " 0.9997995674587632   \n",
       " 0.9999835347399164   "
      ]
     },
     "execution_count": 72,
     "metadata": {},
     "output_type": "execute_result"
    }
   ],
   "source": [
    "x = rand(10000)\n",
    "sort!(x)"
   ]
  },
  {
   "cell_type": "code",
   "execution_count": 74,
   "metadata": {},
   "outputs": [
    {
     "data": {
      "text/plain": [
       "5-element Array{Int64,1}:\n",
       " 1\n",
       " 5\n",
       " 3\n",
       " 4\n",
       " 5"
      ]
     },
     "execution_count": 74,
     "metadata": {},
     "output_type": "execute_result"
    }
   ],
   "source": [
    "x = [1,2,3,4,2]\n",
    "replace(x,2=>5)"
   ]
  },
  {
   "cell_type": "code",
   "execution_count": 75,
   "metadata": {},
   "outputs": [
    {
     "data": {
      "text/plain": [
       "5-element Array{Int64,1}:\n",
       " 1\n",
       " 2\n",
       " 3\n",
       " 4\n",
       " 2"
      ]
     },
     "execution_count": 75,
     "metadata": {},
     "output_type": "execute_result"
    }
   ],
   "source": [
    "x"
   ]
  },
  {
   "cell_type": "code",
   "execution_count": 77,
   "metadata": {},
   "outputs": [
    {
     "data": {
      "text/plain": [
       "5-element Array{Int64,1}:\n",
       " 1\n",
       " 5\n",
       " 3\n",
       " 4\n",
       " 5"
      ]
     },
     "execution_count": 77,
     "metadata": {},
     "output_type": "execute_result"
    }
   ],
   "source": [
    "replace!(x,2=>5)\n",
    "x"
   ]
  },
  {
   "cell_type": "code",
   "execution_count": 83,
   "metadata": {},
   "outputs": [
    {
     "data": {
      "text/plain": [
       "10"
      ]
     },
     "execution_count": 83,
     "metadata": {},
     "output_type": "execute_result"
    }
   ],
   "source": [
    "x = [i^2 for i=1:10]\n",
    "\n",
    "sum(i for i in 1:10 if i<5)"
   ]
  },
  {
   "cell_type": "code",
   "execution_count": null,
   "metadata": {},
   "outputs": [],
   "source": []
  }
 ],
 "metadata": {
  "@webio": {
   "lastCommId": "016960e2503949eab5b1d6d277e6d739",
   "lastKernelId": "590321c9-0f0e-4a7d-876c-562693bbb29b"
  },
  "kernelspec": {
   "display_name": "Julia 1.0.2",
   "language": "julia",
   "name": "julia-1.0"
  },
  "language_info": {
   "file_extension": ".jl",
   "mimetype": "application/julia",
   "name": "julia",
   "version": "1.0.2"
  }
 },
 "nbformat": 4,
 "nbformat_minor": 2
}
