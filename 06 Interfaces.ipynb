{
 "cells": [
  {
   "cell_type": "markdown",
   "metadata": {},
   "source": [
    "### The AbstractArray interface\n",
    "\n",
    "* Defining a custom array type is not difficult\n",
    "* Example: Scaled Array\n",
    "* https://docs.julialang.org/en/v1/manual/interfaces/index.html#man-interface-array-1"
   ]
  },
  {
   "cell_type": "code",
   "execution_count": null,
   "metadata": {},
   "outputs": [],
   "source": []
  },
  {
   "cell_type": "code",
   "execution_count": null,
   "metadata": {},
   "outputs": [],
   "source": []
  },
  {
   "cell_type": "markdown",
   "metadata": {},
   "source": [
    "### Exercise\n",
    "\n",
    "1. Implement a new array type which represents a periodic array that accepts indices out of bounds by repeating the array values when an out of bound index is passed "
   ]
  },
  {
   "cell_type": "code",
   "execution_count": null,
   "metadata": {},
   "outputs": [],
   "source": []
  },
  {
   "cell_type": "code",
   "execution_count": null,
   "metadata": {},
   "outputs": [],
   "source": []
  },
  {
   "cell_type": "markdown",
   "metadata": {},
   "source": [
    "### The iteration interface\n",
    "\n",
    "\n",
    "**Example** Iterate over a matrix returning named tuples of indices and values \n",
    "\n",
    "https://docs.julialang.org/en/v1/manual/interfaces/index.html#man-interface-iteration-1"
   ]
  },
  {
   "cell_type": "code",
   "execution_count": null,
   "metadata": {},
   "outputs": [],
   "source": []
  },
  {
   "cell_type": "markdown",
   "metadata": {},
   "source": [
    "### Exercise\n",
    "\n",
    "1. Write an iterator that iterates over the digits of an Integer, in reverse order\n",
    "2. Use this iterator to estimate the relative occurence of digits in numbers drawn from a Poisson distribution with λ=100, (see [here](https://juliastats.github.io/Distributions.jl/latest/univariate.html#Distributions.Poisson))"
   ]
  },
  {
   "cell_type": "code",
   "execution_count": null,
   "metadata": {},
   "outputs": [],
   "source": [
    "using Pkg; activate(\".\")\n",
    "using Distributions\n",
    "# This creates a random number drawn from a Poission distribution\n",
    "mydist = Poisson(100.0)\n",
    "rand(mydist)"
   ]
  },
  {
   "cell_type": "code",
   "execution_count": null,
   "metadata": {},
   "outputs": [],
   "source": []
  }
 ],
 "metadata": {
  "@webio": {
   "lastCommId": "eec83b42fe95418b8bd334991d423aa8",
   "lastKernelId": "587c02a7-1037-4018-8e40-ed35ba8ba249"
  },
  "kernelspec": {
   "display_name": "Julia 1.0.2",
   "language": "julia",
   "name": "julia-1.0"
  },
  "language_info": {
   "file_extension": ".jl",
   "mimetype": "application/julia",
   "name": "julia",
   "version": "1.0.2"
  }
 },
 "nbformat": 4,
 "nbformat_minor": 2
}
