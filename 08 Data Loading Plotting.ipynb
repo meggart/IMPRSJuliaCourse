{
 "cells": [
  {
   "cell_type": "code",
   "execution_count": null,
   "metadata": {},
   "outputs": [],
   "source": [
    "using Pkg\n",
    "Pkg.activate(\".\")\n",
    "Pkg.instantiate()\n",
    "using CSV"
   ]
  },
  {
   "cell_type": "code",
   "execution_count": null,
   "metadata": {},
   "outputs": [],
   "source": [
    "using CSV\n",
    "using DataFrames\n",
    "df = CSV.read(\"data/mpi_saale_2017b.csv\",normalizenames=true);"
   ]
  },
  {
   "cell_type": "code",
   "execution_count": null,
   "metadata": {},
   "outputs": [],
   "source": [
    "using DataFrames"
   ]
  },
  {
   "cell_type": "code",
   "execution_count": null,
   "metadata": {},
   "outputs": [],
   "source": [
    "names(df)"
   ]
  },
  {
   "cell_type": "code",
   "execution_count": null,
   "metadata": {},
   "outputs": [],
   "source": [
    "using Dates\n",
    "parsetime(x) = parse(DateTime,x,DateFormat(\"dd.mm.yyyy HH:MM:SS\"))\n",
    "df[:time] = parsetime.(df[:Date_Time])\n",
    "dfjuly = filter(x->month(x.time)==7,df);"
   ]
  },
  {
   "cell_type": "markdown",
   "metadata": {},
   "source": [
    "### Plotting in Julia\n",
    "\n",
    "Pick one of the plotting "
   ]
  },
  {
   "cell_type": "code",
   "execution_count": null,
   "metadata": {},
   "outputs": [],
   "source": [
    "import ECharts\n",
    "p = ECharts.line(dfjuly[:time],hcat(dfjuly[:ST002_degC_],dfjuly[:ST004_degC_],dfjuly[:ST008_degC_],dfjuly[:ST016_degC_]))\n",
    "ECharts.seriesnames!(p,[\"2cm\",\"4cm\",\"8cm\",\"16cm\"])"
   ]
  },
  {
   "cell_type": "code",
   "execution_count": null,
   "metadata": {},
   "outputs": [],
   "source": []
  },
  {
   "cell_type": "code",
   "execution_count": null,
   "metadata": {},
   "outputs": [],
   "source": [
    "import Plots\n"
   ]
  }
 ],
 "metadata": {
  "@webio": {
   "lastCommId": "af55a9931686448885c3f78e2af8f3d8",
   "lastKernelId": "443174d5-9179-4380-83a2-46c9fdb50ce0"
  },
  "kernelspec": {
   "display_name": "Julia 1.0.2",
   "language": "julia",
   "name": "julia-1.0"
  },
  "language_info": {
   "file_extension": ".jl",
   "mimetype": "application/julia",
   "name": "julia",
   "version": "1.0.2"
  }
 },
 "nbformat": 4,
 "nbformat_minor": 2
}
