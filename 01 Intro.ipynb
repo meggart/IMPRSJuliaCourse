{
 "cells": [
  {
   "cell_type": "markdown",
   "metadata": {
    "slideshow": {
     "slide_type": "slide"
    }
   },
   "source": [
    "# The Julia Programming language"
   ]
  },
  {
   "cell_type": "markdown",
   "metadata": {
    "nbpresent": {
     "id": "d0b3ce85-39d1-4e87-9888-42c80c9e5289"
    },
    "slideshow": {
     "slide_type": "slide"
    }
   },
   "source": [
    "Some short examples"
   ]
  },
  {
   "cell_type": "code",
   "execution_count": null,
   "metadata": {
    "nbpresent": {
     "id": "01bb5ae4-7056-4813-8cc4-bb4c32a22dc4"
    },
    "slideshow": {
     "slide_type": "fragment"
    }
   },
   "outputs": [],
   "source": [
    "#Simple math\n",
    "x = 2\n",
    "y = 3\n",
    "x + y"
   ]
  },
  {
   "cell_type": "code",
   "execution_count": null,
   "metadata": {
    "nbpresent": {
     "id": "8c85ce6f-7b1a-476f-b4b7-9ffe04ad1c63"
    }
   },
   "outputs": [],
   "source": [
    "# Vector math\n",
    "x = [1,2,3,4]\n",
    "y = [2.5,3.5,1.0,2.9]\n",
    "x + y"
   ]
  },
  {
   "cell_type": "code",
   "execution_count": null,
   "metadata": {},
   "outputs": [],
   "source": [
    "# Functions look like math\n",
    "f(x) = 2x^2 + sin(x)\n",
    "f(5)"
   ]
  },
  {
   "cell_type": "code",
   "execution_count": null,
   "metadata": {},
   "outputs": [],
   "source": [
    "# Apply a function element-wise\n",
    "f.(x)"
   ]
  },
  {
   "cell_type": "code",
   "execution_count": null,
   "metadata": {},
   "outputs": [],
   "source": [
    "# Always be explicit\n",
    "sin([1.0,2.0,3.0])"
   ]
  },
  {
   "cell_type": "code",
   "execution_count": null,
   "metadata": {},
   "outputs": [],
   "source": [
    "# Matrix math\n",
    "m = rand(4,3)\n",
    "n = ones(3,5)\n",
    "m*n"
   ]
  },
  {
   "cell_type": "code",
   "execution_count": null,
   "metadata": {},
   "outputs": [],
   "source": [
    "m = rand(3,3)\n",
    "n = ones(3,3)\n",
    "m.*n == m*n"
   ]
  },
  {
   "cell_type": "markdown",
   "metadata": {},
   "source": [
    "### So what is so special about Julia?\n",
    "\n",
    "* fast, generic and dynamic at the same time\n",
    "\n",
    "### Difference between static and dynamic typing \n",
    "\n",
    "C:\n",
    "\n",
    "````C\n",
    "double f(double x, double y) {\n",
    "    double r;\n",
    "    r = x + y;\n",
    "    r = r + x;\n",
    "    return r;\n",
    "}\n",
    "````\n",
    "\n",
    "* variable have types\n",
    "* within `f` x and y are always double floating point numbers\n",
    "* all operations are predictable for the compiler\n",
    "* the return type is known\n",
    "* code is fast but not generic\n",
    "\n",
    "R:\n",
    "\n",
    "````R\n",
    "f <- function(x, y) {\n",
    "    r <- x + y\n",
    "    r <- r + x\n",
    "    return r\n",
    "}\n",
    "````\n",
    "\n",
    "* values have types\n",
    "* f is generic, because the operations executed depend on the inputs\n",
    "* x and y might be numeric vectors, raster objects, DataFrames...\n",
    "* everything is possible as long as `+` is defined for the type\n",
    "* code is usually slower because the compiler has to check line by line which operation to execute\n",
    "* return type is unknown\n",
    "\n",
    "### Julia"
   ]
  },
  {
   "cell_type": "code",
   "execution_count": null,
   "metadata": {},
   "outputs": [],
   "source": [
    "function f(x,y)\n",
    "    r = x + y\n",
    "    r = r + x\n",
    "    r\n",
    "end"
   ]
  },
  {
   "cell_type": "code",
   "execution_count": null,
   "metadata": {},
   "outputs": [],
   "source": [
    "@code_lowered"
   ]
  },
  {
   "cell_type": "code",
   "execution_count": null,
   "metadata": {},
   "outputs": [],
   "source": [
    "@code_typed"
   ]
  },
  {
   "cell_type": "code",
   "execution_count": null,
   "metadata": {},
   "outputs": [],
   "source": [
    "@code_llvm"
   ]
  },
  {
   "cell_type": "code",
   "execution_count": null,
   "metadata": {},
   "outputs": [],
   "source": [
    "@code_native"
   ]
  },
  {
   "cell_type": "markdown",
   "metadata": {},
   "source": [
    "### Implications for Julia code\n",
    "\n",
    "* type stability (sqrt)\n",
    "* eval only in global scope\n",
    "* use of *function barriers* to separate type-unstable from type-stable parts"
   ]
  }
 ],
 "metadata": {
  "@webio": {
   "lastCommId": "ae39b4c3924b42c1bbee2163be40f0c8",
   "lastKernelId": "e1d9c23b-0ff5-43de-94d2-fa7f6e0055d7"
  },
  "kernelspec": {
   "display_name": "Julia 1.0.2",
   "language": "julia",
   "name": "julia-1.0"
  },
  "language_info": {
   "file_extension": ".jl",
   "mimetype": "application/julia",
   "name": "julia",
   "version": "1.0.2"
  }
 },
 "nbformat": 4,
 "nbformat_minor": 2
}
