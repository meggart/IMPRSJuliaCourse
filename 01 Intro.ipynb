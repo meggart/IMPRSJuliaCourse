{
 "cells": [
  {
   "cell_type": "markdown",
   "metadata": {
    "slideshow": {
     "slide_type": "slide"
    }
   },
   "source": [
    "# The Julia Programming language"
   ]
  },
  {
   "cell_type": "markdown",
   "metadata": {
    "nbpresent": {
     "id": "d0b3ce85-39d1-4e87-9888-42c80c9e5289"
    },
    "slideshow": {
     "slide_type": "slide"
    }
   },
   "source": [
    "Some short examples"
   ]
  },
  {
   "cell_type": "code",
   "execution_count": 2,
   "metadata": {
    "nbpresent": {
     "id": "01bb5ae4-7056-4813-8cc4-bb4c32a22dc4"
    },
    "slideshow": {
     "slide_type": "fragment"
    }
   },
   "outputs": [
    {
     "data": {
      "text/plain": [
       "5"
      ]
     },
     "execution_count": 2,
     "metadata": {},
     "output_type": "execute_result"
    }
   ],
   "source": [
    "#Simple math\n",
    "x = 2\n",
    "y = 3\n",
    "x + y"
   ]
  },
  {
   "cell_type": "code",
   "execution_count": 3,
   "metadata": {
    "nbpresent": {
     "id": "8c85ce6f-7b1a-476f-b4b7-9ffe04ad1c63"
    }
   },
   "outputs": [
    {
     "data": {
      "text/plain": [
       "4-element Array{Float64,1}:\n",
       " 3.5\n",
       " 5.5\n",
       " 4.0\n",
       " 6.9"
      ]
     },
     "execution_count": 3,
     "metadata": {},
     "output_type": "execute_result"
    }
   ],
   "source": [
    "# Vector math\n",
    "x = [1,2,3,4]\n",
    "y = [2.5,3.5,1.0,2.9]\n",
    "x + y"
   ]
  },
  {
   "cell_type": "code",
   "execution_count": 4,
   "metadata": {},
   "outputs": [
    {
     "data": {
      "text/plain": [
       "49.04107572533686"
      ]
     },
     "execution_count": 4,
     "metadata": {},
     "output_type": "execute_result"
    }
   ],
   "source": [
    "# Functions look like math\n",
    "f(x) = 2x^2 + sin(x)\n",
    "f(5)"
   ]
  },
  {
   "cell_type": "code",
   "execution_count": 5,
   "metadata": {},
   "outputs": [
    {
     "data": {
      "text/plain": [
       "4-element Array{Float64,1}:\n",
       "  2.8414709848078967\n",
       "  8.909297426825681 \n",
       " 18.14112000805987  \n",
       " 31.243197504692073 "
      ]
     },
     "execution_count": 5,
     "metadata": {},
     "output_type": "execute_result"
    }
   ],
   "source": [
    "# Apply a function element-wise\n",
    "f.(x)"
   ]
  },
  {
   "cell_type": "code",
   "execution_count": 7,
   "metadata": {},
   "outputs": [
    {
     "data": {
      "text/plain": [
       "3-element Array{Float64,1}:\n",
       " 0.8414709848078965\n",
       " 0.9092974268256817\n",
       " 0.1411200080598672"
      ]
     },
     "execution_count": 7,
     "metadata": {},
     "output_type": "execute_result"
    }
   ],
   "source": [
    "# Always be explicit\n",
    "sin.([1.0,2.0,3.0])"
   ]
  },
  {
   "cell_type": "code",
   "execution_count": 8,
   "metadata": {},
   "outputs": [
    {
     "data": {
      "text/plain": [
       "4×5 Array{Float64,2}:\n",
       " 1.94828  1.94828  1.94828  1.94828  1.94828\n",
       " 1.84022  1.84022  1.84022  1.84022  1.84022\n",
       " 1.76882  1.76882  1.76882  1.76882  1.76882\n",
       " 1.13088  1.13088  1.13088  1.13088  1.13088"
      ]
     },
     "execution_count": 8,
     "metadata": {},
     "output_type": "execute_result"
    }
   ],
   "source": [
    "# Matrix math\n",
    "m = rand(4,3)\n",
    "n = ones(3,5)\n",
    "m*n"
   ]
  },
  {
   "cell_type": "code",
   "execution_count": 9,
   "metadata": {},
   "outputs": [
    {
     "data": {
      "text/plain": [
       "false"
      ]
     },
     "execution_count": 9,
     "metadata": {},
     "output_type": "execute_result"
    }
   ],
   "source": [
    "m = rand(3,3)\n",
    "n = ones(3,3)\n",
    "m.*n == m*n"
   ]
  },
  {
   "cell_type": "code",
   "execution_count": 14,
   "metadata": {},
   "outputs": [
    {
     "data": {
      "text/plain": [
       "3×3 BitArray{2}:\n",
       " false  false  false\n",
       " false  false  false\n",
       " false  false  false"
      ]
     },
     "execution_count": 14,
     "metadata": {},
     "output_type": "execute_result"
    }
   ],
   "source": [
    "m .== n"
   ]
  },
  {
   "cell_type": "markdown",
   "metadata": {},
   "source": [
    "### So what is so special about Julia?\n",
    "\n",
    "* fast, generic and dynamic at the same time\n",
    "\n",
    "### Difference between static and dynamic typing \n",
    "\n",
    "C:\n",
    "\n",
    "````C\n",
    "double f(double x, double y) {\n",
    "    double r;\n",
    "    r = x + y;\n",
    "    r = r + x;\n",
    "    return r;\n",
    "}\n",
    "````\n",
    "\n",
    "* variable have types\n",
    "* within `f` x and y are always double floating point numbers\n",
    "* all operations are predictable for the compiler\n",
    "* the return type is known\n",
    "* code is fast but not generic\n",
    "\n",
    "R:\n",
    "\n",
    "````R\n",
    "f <- function(x, y) {\n",
    "    r <- x + y\n",
    "    r <- r + x\n",
    "    return r\n",
    "}\n",
    "````\n",
    "\n",
    "* values have types\n",
    "* f is generic, because the operations executed depend on the inputs\n",
    "* x and y might be numeric vectors, raster objects, DataFrames...\n",
    "* everything is possible as long as `+` is defined for the type\n",
    "* code is usually slower because the compiler has to check line by line which operation to execute\n",
    "* return type is unknown\n",
    "\n",
    "### Julia"
   ]
  },
  {
   "cell_type": "code",
   "execution_count": 15,
   "metadata": {},
   "outputs": [
    {
     "data": {
      "text/plain": [
       "f (generic function with 2 methods)"
      ]
     },
     "execution_count": 15,
     "metadata": {},
     "output_type": "execute_result"
    }
   ],
   "source": [
    "function f(x,y)\n",
    "    r = x + y\n",
    "    r = r + x\n",
    "    r\n",
    "end"
   ]
  },
  {
   "cell_type": "code",
   "execution_count": 17,
   "metadata": {},
   "outputs": [
    {
     "data": {
      "text/plain": [
       "CodeInfo(\n",
       "\u001b[90m\u001b[77G│\u001b[1G\u001b[39m\u001b[90m2 \u001b[39m1 ─     r = x + y\n",
       "\u001b[90m\u001b[77G│\u001b[1G\u001b[39m\u001b[90m3 \u001b[39m│       r = r + x\n",
       "\u001b[90m\u001b[77G│\u001b[1G\u001b[39m\u001b[90m4 \u001b[39m└──     return r\n",
       ")"
      ]
     },
     "execution_count": 17,
     "metadata": {},
     "output_type": "execute_result"
    }
   ],
   "source": [
    "@code_lowered f(x,y)"
   ]
  },
  {
   "cell_type": "code",
   "execution_count": 23,
   "metadata": {},
   "outputs": [
    {
     "data": {
      "text/plain": [
       "CodeInfo(\n",
       "\u001b[90m\u001b[74G│╻ +\u001b[1G\u001b[39m\u001b[90m2 \u001b[39m1 ─ %1 = (Base.add_float)(x, y)\u001b[36m::Float64\u001b[39m\n",
       "\u001b[90m\u001b[74G│╻ +\u001b[1G\u001b[39m\u001b[90m3 \u001b[39m│   %2 = (Base.add_float)(%1, x)\u001b[36m::Float64\u001b[39m\n",
       "\u001b[90m\u001b[74G│ \u001b[1G\u001b[39m\u001b[90m4 \u001b[39m└──      return %2\n",
       ") => Float64"
      ]
     },
     "execution_count": 23,
     "metadata": {},
     "output_type": "execute_result"
    }
   ],
   "source": [
    "@code_typed f(2.0,5.0)"
   ]
  },
  {
   "cell_type": "code",
   "execution_count": 19,
   "metadata": {},
   "outputs": [
    {
     "name": "stdout",
     "output_type": "stream",
     "text": [
      "\n",
      "; Function f\n",
      "; Location: In[15]:2\n",
      "define i64 @julia_f_36024(i64, i64) {\n",
      "top:\n",
      "  %factor = shl i64 %0, 1\n",
      "; Location: In[15]:3\n",
      "; Function +; {\n",
      "; Location: int.jl:53\n",
      "  %2 = add i64 %factor, %1\n",
      ";}\n",
      "; Location: In[15]:4\n",
      "  ret i64 %2\n",
      "}\n"
     ]
    }
   ],
   "source": [
    "@code_llvm f(2,3)"
   ]
  },
  {
   "cell_type": "code",
   "execution_count": 20,
   "metadata": {},
   "outputs": [
    {
     "name": "stdout",
     "output_type": "stream",
     "text": [
      "\t.text\n",
      "; Function f {\n",
      "; Location: In[15]:3\n",
      "; Function +; {\n",
      "; Location: In[15]:2\n",
      "\tleaq\t(%rsi,%rdi,2), %rax\n",
      ";}\n",
      "; Location: In[15]:4\n",
      "\tretq\n",
      "\tnopw\t%cs:(%rax,%rax)\n",
      ";}\n"
     ]
    }
   ],
   "source": [
    "@code_native f(2,3)"
   ]
  },
  {
   "cell_type": "markdown",
   "metadata": {},
   "source": [
    "### Implications for Julia code\n",
    "\n",
    "* type stability (sqrt)\n",
    "* eval only in global scope\n",
    "* use of *function barriers* to separate type-unstable from type-stable parts"
   ]
  },
  {
   "cell_type": "code",
   "execution_count": 27,
   "metadata": {},
   "outputs": [
    {
     "data": {
      "text/plain": [
       "1.4142135623730951 + 0.0im"
      ]
     },
     "execution_count": 27,
     "metadata": {},
     "output_type": "execute_result"
    }
   ],
   "source": [
    "sqrt(Complex(2.0))"
   ]
  },
  {
   "cell_type": "code",
   "execution_count": 28,
   "metadata": {},
   "outputs": [
    {
     "data": {
      "text/plain": [
       ":(a = 5)"
      ]
     },
     "execution_count": 28,
     "metadata": {},
     "output_type": "execute_result"
    }
   ],
   "source": [
    "x = :(a = 5)"
   ]
  },
  {
   "cell_type": "code",
   "execution_count": 29,
   "metadata": {},
   "outputs": [
    {
     "data": {
      "text/plain": [
       "5"
      ]
     },
     "execution_count": 29,
     "metadata": {},
     "output_type": "execute_result"
    }
   ],
   "source": [
    "eval(x)"
   ]
  },
  {
   "cell_type": "code",
   "execution_count": 30,
   "metadata": {},
   "outputs": [
    {
     "data": {
      "text/plain": [
       "5"
      ]
     },
     "execution_count": 30,
     "metadata": {},
     "output_type": "execute_result"
    }
   ],
   "source": [
    "a"
   ]
  },
  {
   "cell_type": "code",
   "execution_count": 33,
   "metadata": {},
   "outputs": [
    {
     "data": {
      "text/plain": [
       "doeval (generic function with 1 method)"
      ]
     },
     "execution_count": 33,
     "metadata": {},
     "output_type": "execute_result"
    }
   ],
   "source": [
    "function doeval()\n",
    "    x = :(b = 5)\n",
    "    eval(x)\n",
    "    b\n",
    "end"
   ]
  },
  {
   "cell_type": "code",
   "execution_count": 36,
   "metadata": {},
   "outputs": [
    {
     "name": "stdout",
     "output_type": "stream",
     "text": [
      "Body\u001b[91m\u001b[1m::Any\u001b[22m\u001b[39m\n",
      "\u001b[90m\u001b[77G│\u001b[1G\u001b[39m\u001b[90m2 \u001b[39m1 ─ %1 = $(Expr(:copyast, :($(QuoteNode(:(b = 5))))))\u001b[36m::Core.Compiler.Const(:(b = 5), false)\u001b[39m\n",
      "\u001b[90m\u001b[77G│\u001b[1G\u001b[39m\u001b[90m3 \u001b[39m│        invoke Main.eval(%1::Expr)\n",
      "\u001b[90m\u001b[77G│\u001b[1G\u001b[39m\u001b[90m4 \u001b[39m└──      return Main.b\n"
     ]
    }
   ],
   "source": [
    "@code_warntype doeval()"
   ]
  },
  {
   "cell_type": "code",
   "execution_count": 35,
   "metadata": {},
   "outputs": [
    {
     "data": {
      "text/plain": [
       "5"
      ]
     },
     "execution_count": 35,
     "metadata": {},
     "output_type": "execute_result"
    }
   ],
   "source": [
    "b"
   ]
  },
  {
   "cell_type": "code",
   "execution_count": null,
   "metadata": {},
   "outputs": [],
   "source": []
  }
 ],
 "metadata": {
  "@webio": {
   "lastCommId": "b1e5de1ef79a4dcf84b7acf7d5dcc1f0",
   "lastKernelId": "b5d622ef-8fd2-4311-8080-9b3d03438800"
  },
  "kernelspec": {
   "display_name": "Julia 1.0.2",
   "language": "julia",
   "name": "julia-1.0"
  },
  "language_info": {
   "file_extension": ".jl",
   "mimetype": "application/julia",
   "name": "julia",
   "version": "1.0.2"
  }
 },
 "nbformat": 4,
 "nbformat_minor": 2
}
