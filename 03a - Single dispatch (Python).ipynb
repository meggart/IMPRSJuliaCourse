{
 "cells": [
  {
   "cell_type": "code",
   "execution_count": 1,
   "metadata": {},
   "outputs": [],
   "source": [
    "class animal:\n",
    "    def __init__(self,name):\n",
    "        self.name=name\n",
    "        \n",
    "class cat(animal):\n",
    "    def makeNoise(self):\n",
    "        print(self.name,\"says: Miaouw\")\n",
    "        \n",
    "class dog(animal):\n",
    "    def makeNoise(self):\n",
    "        print(self.name,\"says: Woof\")"
   ]
  },
  {
   "cell_type": "code",
   "execution_count": 2,
   "metadata": {},
   "outputs": [],
   "source": [
    "my_animals=[dog(\"Harry\"),cat(\"Twinkle\"),dog(\"Woody\")]"
   ]
  },
  {
   "cell_type": "code",
   "execution_count": 3,
   "metadata": {},
   "outputs": [
    {
     "name": "stdout",
     "output_type": "stream",
     "text": [
      "Harry says: Woof\n",
      "Twinkle says: Miaouw\n",
      "Woody says: Woof\n"
     ]
    }
   ],
   "source": [
    "for a in my_animals:\n",
    "    a.makeNoise()"
   ]
  },
  {
   "cell_type": "code",
   "execution_count": null,
   "metadata": {},
   "outputs": [],
   "source": []
  }
 ],
 "metadata": {
  "@webio": {
   "lastCommId": "6942a8c3c86c49a5a122cbb7df6b5ac5",
   "lastKernelId": "48a4f8da-fd8a-43ae-a737-0ca03d8eeca1"
  },
  "anaconda-cloud": {},
  "kernelspec": {
   "display_name": "Python [conda root]",
   "language": "python",
   "name": "conda-root-py"
  },
  "language_info": {
   "codemirror_mode": {
    "name": "ipython",
    "version": 3
   },
   "file_extension": ".py",
   "mimetype": "text/x-python",
   "name": "python",
   "nbconvert_exporter": "python",
   "pygments_lexer": "ipython3",
   "version": "3.5.6"
  }
 },
 "nbformat": 4,
 "nbformat_minor": 2
}
