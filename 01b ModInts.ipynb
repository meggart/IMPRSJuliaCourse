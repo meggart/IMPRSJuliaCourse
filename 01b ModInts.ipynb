{
 "cells": [
  {
   "cell_type": "markdown",
   "metadata": {},
   "source": [
    "## There is no concept of built-in"
   ]
  },
  {
   "cell_type": "markdown",
   "metadata": {},
   "source": [
    ">Julia is designed to be easy and fast and questions notions generally held to\n",
    ">be “laws of nature” by practitioners of numerical computing:\n",
    ">1. High-level dynamic programs have to be slow.\n",
    ">2. One must prototype in one language and then rewrite in another language for speed or deployment.\n",
    ">3. There are parts of a system appropriate for the programmer, and other parts that are best left untouched as they have been built by the experts.\n",
    "\n",
    "Bezanson, Jeff, et al. \"Julia: A fresh approach to numerical computing.\" arXiv preprint arXiv:1411.1607 (2014).\n"
   ]
  },
  {
   "cell_type": "markdown",
   "metadata": {},
   "source": [
    "## User-defined functions are not slow"
   ]
  },
  {
   "cell_type": "code",
   "execution_count": null,
   "metadata": {},
   "outputs": [],
   "source": [
    "using Random, LinearAlgebra\n",
    "# Your own functions are not slow\n",
    "function my_sum(x)\n",
    "    \n",
    "end"
   ]
  },
  {
   "cell_type": "markdown",
   "metadata": {},
   "source": [
    "### Function works on any input type (JIT-compilation)"
   ]
  },
  {
   "cell_type": "code",
   "execution_count": null,
   "metadata": {},
   "outputs": [],
   "source": []
  },
  {
   "cell_type": "code",
   "execution_count": null,
   "metadata": {},
   "outputs": [],
   "source": [
    "my_sum(x_int)"
   ]
  },
  {
   "cell_type": "markdown",
   "metadata": {
    "collapsed": true
   },
   "source": [
    "## User-defined types are not slow - and magic"
   ]
  },
  {
   "cell_type": "code",
   "execution_count": null,
   "metadata": {},
   "outputs": [],
   "source": [
    "struct ModInt{n} <: Integer\n",
    "    k::Int\n",
    "    ModInt{n}(k) where n =new(mod(k,n))\n",
    "end\n",
    "\n",
    "Base.show(io::IO, k::ModInt{n}) where n =\n",
    "    print(io, get(io, :compact, false) ? k.k : \"$(k.k) mod $n\")\n",
    "\n",
    "import Base: +, -, *, /, inv, <, show, oneunit\n",
    "\n",
    "+(a::ModInt{n}, b::ModInt{n}) where n = ModInt{n}(a.k+b.k)\n",
    "-(a::ModInt{n}, b::ModInt{n}) where n = ModInt{n}(a.k-b.k)\n",
    "*(a::ModInt{n}, b::ModInt{n}) where n = ModInt{n}(a.k*b.k)\n",
    "-(a::ModInt{n}) where n = ModInt{n}(-a.k)\n",
    "\n",
    "inv(a::ModInt{n}) where n = ModInt{n}(invmod(a.k, n))\n",
    "/(a::ModInt, b::ModInt) = a*inv(b)\n",
    "oneunit(T::Type{ModInt{n}}) where n = ModInt{n}(1)\n",
    "\n",
    "Base.convert(::Type{ModInt{n}}, i::Int) where n = ModInt{n}(i)\n",
    "Base.promote_rule(::Type{ModInt{n}}, ::Type{Int}) where n = ModInt{n}"
   ]
  },
  {
   "cell_type": "markdown",
   "metadata": {},
   "source": [
    "Test the functionality we just defined"
   ]
  },
  {
   "cell_type": "code",
   "execution_count": null,
   "metadata": {},
   "outputs": [],
   "source": []
  },
  {
   "cell_type": "markdown",
   "metadata": {},
   "source": [
    "### Arrays of ModInts\n",
    "\n",
    "* matrix multiplication\n",
    "* diagm\n",
    "* performance"
   ]
  },
  {
   "cell_type": "markdown",
   "metadata": {},
   "source": [
    "This is still fast, the following operations involves 10 million Modint multiplications."
   ]
  },
  {
   "cell_type": "markdown",
   "metadata": {
    "collapsed": true
   },
   "source": [
    "### Exercise\n",
    "\n",
    "1. Write a function that counts the number of elements in an array that are less than a user-defined threshold"
   ]
  },
  {
   "cell_type": "code",
   "execution_count": null,
   "metadata": {},
   "outputs": [],
   "source": [
    "# Task 1\n",
    "function f(x,tres)\n",
    "    #Your code goes here\n",
    "end"
   ]
  },
  {
   "cell_type": "code",
   "execution_count": null,
   "metadata": {},
   "outputs": [],
   "source": [
    "using Test\n",
    "\n",
    "@test f([0.05,0.8,2.0,0.06],0.1) == 2\n",
    "@test f(collect(1:10),3.5) == 3"
   ]
  },
  {
   "cell_type": "markdown",
   "metadata": {},
   "source": [
    "2. Write a function that calculates the sum of squares of an array"
   ]
  },
  {
   "cell_type": "code",
   "execution_count": null,
   "metadata": {},
   "outputs": [],
   "source": [
    "# Task 2\n",
    "\n",
    "# Define a function g here"
   ]
  },
  {
   "cell_type": "code",
   "execution_count": null,
   "metadata": {},
   "outputs": [],
   "source": [
    "@test g([2.0, 3.5, 1.5]) == 18.5\n",
    "@test g([4,5,6]) == 77"
   ]
  },
  {
   "cell_type": "code",
   "execution_count": null,
   "metadata": {},
   "outputs": [],
   "source": []
  }
 ],
 "metadata": {
  "@webio": {
   "lastCommId": "846efe816a6143f083461c739471770a",
   "lastKernelId": "340e63a3-1bf9-41d7-9143-f33b58818922"
  },
  "anaconda-cloud": {},
  "kernelspec": {
   "display_name": "Julia 1.0.2",
   "language": "julia",
   "name": "julia-1.0"
  },
  "language_info": {
   "file_extension": ".jl",
   "mimetype": "application/julia",
   "name": "julia",
   "version": "1.0.2"
  }
 },
 "nbformat": 4,
 "nbformat_minor": 2
}
