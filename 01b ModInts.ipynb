{
 "cells": [
  {
   "cell_type": "markdown",
   "metadata": {},
   "source": [
    "## There is no concept of built-in"
   ]
  },
  {
   "cell_type": "markdown",
   "metadata": {},
   "source": [
    ">Julia is designed to be easy and fast and questions notions generally held to\n",
    ">be “laws of nature” by practitioners of numerical computing:\n",
    ">1. High-level dynamic programs have to be slow.\n",
    ">2. One must prototype in one language and then rewrite in another language for speed or deployment.\n",
    ">3. There are parts of a system appropriate for the programmer, and other parts that are best left untouched as they have been built by the experts.\n",
    "\n",
    "Bezanson, Jeff, et al. \"Julia: A fresh approach to numerical computing.\" arXiv preprint arXiv:1411.1607 (2014).\n"
   ]
  },
  {
   "cell_type": "markdown",
   "metadata": {},
   "source": [
    "## User-defined functions are not slow"
   ]
  },
  {
   "cell_type": "code",
   "execution_count": 19,
   "metadata": {},
   "outputs": [
    {
     "data": {
      "text/plain": [
       "my_sum (generic function with 1 method)"
      ]
     },
     "execution_count": 19,
     "metadata": {},
     "output_type": "execute_result"
    }
   ],
   "source": [
    "using Random, LinearAlgebra\n",
    "# Your own functions are not slow\n",
    "function my_sum(x)\n",
    "    s = zero(eltype(x))\n",
    "    for ix in x\n",
    "        s+=ix\n",
    "    end\n",
    "    s\n",
    "end"
   ]
  },
  {
   "cell_type": "code",
   "execution_count": 21,
   "metadata": {},
   "outputs": [
    {
     "name": "stdout",
     "output_type": "stream",
     "text": [
      "  0.005145 seconds (5 allocations: 176 bytes)\n"
     ]
    },
    {
     "data": {
      "text/plain": [
       "499537.6819078561"
      ]
     },
     "execution_count": 21,
     "metadata": {},
     "output_type": "execute_result"
    }
   ],
   "source": [
    "a = rand(1000000);\n",
    "@time my_sum(a)"
   ]
  },
  {
   "cell_type": "code",
   "execution_count": 22,
   "metadata": {},
   "outputs": [
    {
     "name": "stdout",
     "output_type": "stream",
     "text": [
      "Body\u001b[36m::Float64\u001b[39m\n",
      "\u001b[90m\u001b[58G│╻╷╷  iterate\u001b[1G\u001b[39m\u001b[90m5 \u001b[39m1 ── %1  = (Base.arraylen)(x)\u001b[36m::Int64\u001b[39m\n",
      "\u001b[90m\u001b[58G││╻╷   iterate\u001b[1G\u001b[39m\u001b[90m  \u001b[39m│    %2  = (Base.sle_int)(0, %1)\u001b[36m::Bool\u001b[39m\n",
      "\u001b[90m\u001b[58G│││╻    <\u001b[1G\u001b[39m\u001b[90m  \u001b[39m│    %3  = (Base.bitcast)(UInt64, %1)\u001b[36m::UInt64\u001b[39m\n",
      "\u001b[90m\u001b[58G││││╻    <\u001b[1G\u001b[39m\u001b[90m  \u001b[39m│    %4  = (Base.ult_int)(0x0000000000000000, %3)\u001b[36m::Bool\u001b[39m\n",
      "\u001b[90m\u001b[58G││││╻    &\u001b[1G\u001b[39m\u001b[90m  \u001b[39m│    %5  = (Base.and_int)(%2, %4)\u001b[36m::Bool\u001b[39m\n",
      "\u001b[90m\u001b[58G│││  \u001b[1G\u001b[39m\u001b[90m  \u001b[39m└───       goto #3 if not %5\n",
      "\u001b[90m\u001b[58G│││╻    getindex\u001b[1G\u001b[39m\u001b[90m  \u001b[39m2 ── %7  = (Base.arrayref)(false, x, 1)\u001b[36m::Float64\u001b[39m\n",
      "\u001b[90m\u001b[58G│││  \u001b[1G\u001b[39m\u001b[90m  \u001b[39m└───       goto #4\n",
      "\u001b[90m\u001b[58G│││  \u001b[1G\u001b[39m\u001b[90m  \u001b[39m3 ──       goto #4\n",
      "\u001b[90m\u001b[58G││   \u001b[1G\u001b[39m\u001b[90m  \u001b[39m4 ┄─ %10 = φ (#2 => false, #3 => true)\u001b[36m::Bool\u001b[39m\n",
      "\u001b[90m\u001b[58G││   \u001b[1G\u001b[39m\u001b[90m  \u001b[39m│    %11 = φ (#2 => %7)\u001b[36m::Float64\u001b[39m\n",
      "\u001b[90m\u001b[58G││   \u001b[1G\u001b[39m\u001b[90m  \u001b[39m│    %12 = φ (#2 => 2)\u001b[36m::Int64\u001b[39m\n",
      "\u001b[90m\u001b[58G││   \u001b[1G\u001b[39m\u001b[90m  \u001b[39m└───       goto #5\n",
      "\u001b[90m\u001b[58G│    \u001b[1G\u001b[39m\u001b[90m  \u001b[39m5 ── %14 = (Base.not_int)(%10)\u001b[36m::Bool\u001b[39m\n",
      "\u001b[90m\u001b[58G│    \u001b[1G\u001b[39m\u001b[90m  \u001b[39m└───       goto #11 if not %14\n",
      "\u001b[90m\u001b[58G│    \u001b[1G\u001b[39m\u001b[90m  \u001b[39m6 ┄─ %16 = φ (#5 => 0.0, #10 => %19)\u001b[36m::Float64\u001b[39m\n",
      "\u001b[90m\u001b[58G│    \u001b[1G\u001b[39m\u001b[90m  \u001b[39m│    %17 = φ (#5 => %11, #10 => %33)\u001b[36m::Float64\u001b[39m\n",
      "\u001b[90m\u001b[58G│    \u001b[1G\u001b[39m\u001b[90m  \u001b[39m│    %18 = φ (#5 => %12, #10 => %34)\u001b[36m::Int64\u001b[39m\n",
      "\u001b[90m\u001b[58G│╻    +\u001b[1G\u001b[39m\u001b[90m6 \u001b[39m│    %19 = (Base.add_float)(%16, %17)\u001b[36m::Float64\u001b[39m\n",
      "\u001b[90m\u001b[58G││╻    rem\u001b[1G\u001b[39m\u001b[90m  \u001b[39m│    %20 = (Base.bitcast)(UInt64, %18)\u001b[36m::UInt64\u001b[39m\n",
      "\u001b[90m\u001b[58G││╻    -\u001b[1G\u001b[39m\u001b[90m  \u001b[39m│    %21 = π (0x0000000000000001, \u001b[36mUInt64\u001b[39m)\n",
      "\u001b[90m\u001b[58G│││╻    -\u001b[1G\u001b[39m\u001b[90m  \u001b[39m│    %22 = (Base.sub_int)(%20, %21)\u001b[36m::UInt64\u001b[39m\n",
      "\u001b[90m\u001b[58G││╻    length\u001b[1G\u001b[39m\u001b[90m  \u001b[39m│    %23 = (Base.arraylen)(x)\u001b[36m::Int64\u001b[39m\n",
      "\u001b[90m\u001b[58G│││╻╷   >=\u001b[1G\u001b[39m\u001b[90m  \u001b[39m│    %24 = (Base.sle_int)(0, %23)\u001b[36m::Bool\u001b[39m\n",
      "\u001b[90m\u001b[58G││││╻    reinterpret\u001b[1G\u001b[39m\u001b[90m  \u001b[39m│    %25 = (Base.bitcast)(UInt64, %23)\u001b[36m::UInt64\u001b[39m\n",
      "\u001b[90m\u001b[58G│││╻    <\u001b[1G\u001b[39m\u001b[90m  \u001b[39m│    %26 = (Base.ult_int)(%22, %25)\u001b[36m::Bool\u001b[39m\n",
      "\u001b[90m\u001b[58G│││╻    &\u001b[1G\u001b[39m\u001b[90m  \u001b[39m│    %27 = (Base.and_int)(%24, %26)\u001b[36m::Bool\u001b[39m\n",
      "\u001b[90m\u001b[58G││   \u001b[1G\u001b[39m\u001b[90m  \u001b[39m└───       goto #8 if not %27\n",
      "\u001b[90m\u001b[58G││╻    getindex\u001b[1G\u001b[39m\u001b[90m  \u001b[39m7 ── %29 = (Base.arrayref)(false, x, %18)\u001b[36m::Float64\u001b[39m\n",
      "\u001b[90m\u001b[58G││╻    +\u001b[1G\u001b[39m\u001b[90m  \u001b[39m│    %30 = (Base.add_int)(%18, 1)\u001b[36m::Int64\u001b[39m\n",
      "\u001b[90m\u001b[58G││   \u001b[1G\u001b[39m\u001b[90m  \u001b[39m└───       goto #9\n",
      "\u001b[90m\u001b[58G││   \u001b[1G\u001b[39m\u001b[90m  \u001b[39m8 ──       goto #9\n",
      "\u001b[90m\u001b[58G│    \u001b[1G\u001b[39m\u001b[90m  \u001b[39m9 ┄─ %33 = φ (#7 => %29)\u001b[36m::Float64\u001b[39m\n",
      "\u001b[90m\u001b[58G│    \u001b[1G\u001b[39m\u001b[90m  \u001b[39m│    %34 = φ (#7 => %30)\u001b[36m::Int64\u001b[39m\n",
      "\u001b[90m\u001b[58G│    \u001b[1G\u001b[39m\u001b[90m  \u001b[39m│    %35 = φ (#7 => false, #8 => true)\u001b[36m::Bool\u001b[39m\n",
      "\u001b[90m\u001b[58G│    \u001b[1G\u001b[39m\u001b[90m  \u001b[39m│    %36 = (Base.not_int)(%35)\u001b[36m::Bool\u001b[39m\n",
      "\u001b[90m\u001b[58G│    \u001b[1G\u001b[39m\u001b[90m  \u001b[39m└───       goto #11 if not %36\n",
      "\u001b[90m\u001b[58G│    \u001b[1G\u001b[39m\u001b[90m  \u001b[39m10 ─       goto #6\n",
      "\u001b[90m\u001b[58G│    \u001b[1G\u001b[39m\u001b[90m8 \u001b[39m11 ─ %39 = φ (#9 => %19, #5 => 0.0)\u001b[36m::Float64\u001b[39m\n",
      "\u001b[90m\u001b[58G│    \u001b[1G\u001b[39m\u001b[90m  \u001b[39m└───       return %39\n"
     ]
    }
   ],
   "source": [
    "a = rand(100)\n",
    "@code_warntype my_sum(a)"
   ]
  },
  {
   "cell_type": "markdown",
   "metadata": {},
   "source": [
    "### Function works on any input type (JIT-compilation)"
   ]
  },
  {
   "cell_type": "code",
   "execution_count": null,
   "metadata": {},
   "outputs": [],
   "source": []
  },
  {
   "cell_type": "code",
   "execution_count": null,
   "metadata": {},
   "outputs": [],
   "source": [
    "my_sum(x_int)"
   ]
  },
  {
   "cell_type": "markdown",
   "metadata": {
    "collapsed": true
   },
   "source": [
    "## User-defined types are not slow - and magic"
   ]
  },
  {
   "cell_type": "code",
   "execution_count": 23,
   "metadata": {},
   "outputs": [],
   "source": [
    "struct ModInt{n} <: Integer\n",
    "    k::Int\n",
    "    ModInt{n}(k) where n =new(mod(k,n))\n",
    "end\n",
    "\n",
    "Base.show(io::IO, k::ModInt{n}) where n =\n",
    "    print(io, get(io, :compact, false) ? k.k : \"$(k.k) mod $n\")\n",
    "\n",
    "import Base: +, -, *, /, inv, <, show, oneunit\n",
    "\n",
    "+(a::ModInt{n}, b::ModInt{n}) where n = ModInt{n}(a.k+b.k)\n",
    "-(a::ModInt{n}, b::ModInt{n}) where n = ModInt{n}(a.k-b.k)\n",
    "*(a::ModInt{n}, b::ModInt{n}) where n = ModInt{n}(a.k*b.k)\n",
    "-(a::ModInt{n}) where n = ModInt{n}(-a.k)\n",
    "\n",
    "inv(a::ModInt{n}) where n = ModInt{n}(invmod(a.k, n))\n",
    "/(a::ModInt, b::ModInt) = a*inv(b)\n",
    "oneunit(T::Type{ModInt{n}}) where n = ModInt{n}(1)\n",
    "\n",
    "Base.convert(::Type{ModInt{n}}, i::Int) where n = ModInt{n}(i)\n",
    "Base.promote_rule(::Type{ModInt{n}}, ::Type{Int}) where n = ModInt{n}"
   ]
  },
  {
   "cell_type": "markdown",
   "metadata": {},
   "source": [
    "Test the functionality we just defined"
   ]
  },
  {
   "cell_type": "code",
   "execution_count": 26,
   "metadata": {},
   "outputs": [
    {
     "data": {
      "text/plain": [
       "3 mod 5"
      ]
     },
     "execution_count": 26,
     "metadata": {},
     "output_type": "execute_result"
    }
   ],
   "source": [
    "a = ModInt{5}(8)"
   ]
  },
  {
   "cell_type": "markdown",
   "metadata": {},
   "source": [
    "### Arrays of ModInts\n",
    "\n",
    "* matrix multiplication\n",
    "* diagm\n",
    "* performance"
   ]
  },
  {
   "cell_type": "code",
   "execution_count": 29,
   "metadata": {},
   "outputs": [
    {
     "data": {
      "text/plain": [
       "4-element Array{ModInt{5},1}:\n",
       " 0 mod 5\n",
       " 1 mod 5\n",
       " 1 mod 5\n",
       " 4 mod 5"
      ]
     },
     "execution_count": 29,
     "metadata": {},
     "output_type": "execute_result"
    }
   ],
   "source": [
    "x = ModInt{5}.(rand(Int,4))\n",
    "y = ModInt{5}.(rand(Int,4))\n",
    "x + y"
   ]
  },
  {
   "cell_type": "code",
   "execution_count": 32,
   "metadata": {},
   "outputs": [
    {
     "data": {
      "text/plain": [
       "3×5 Array{ModInt{5},2}:\n",
       " 1  0  1  4  3\n",
       " 3  4  4  1  2\n",
       " 2  1  0  4  2"
      ]
     },
     "execution_count": 32,
     "metadata": {},
     "output_type": "execute_result"
    }
   ],
   "source": [
    "const M5 = ModInt{5}\n",
    "x = M5.(rand(Int,3,3))\n",
    "y = M5.(rand(Int,3,5))\n",
    "x*y"
   ]
  },
  {
   "cell_type": "code",
   "execution_count": 33,
   "metadata": {},
   "outputs": [
    {
     "data": {
      "text/plain": [
       "10×10 Array{ModInt{5},2}:\n",
       " 1  1  1  1  1  1  1  1  1  1\n",
       " 1  1  1  1  1  1  1  1  1  1\n",
       " 1  1  1  1  1  1  1  1  1  1\n",
       " 1  1  1  1  1  1  1  1  1  1\n",
       " 1  1  1  1  1  1  1  1  1  1\n",
       " 1  1  1  1  1  1  1  1  1  1\n",
       " 1  1  1  1  1  1  1  1  1  1\n",
       " 1  1  1  1  1  1  1  1  1  1\n",
       " 1  1  1  1  1  1  1  1  1  1\n",
       " 1  1  1  1  1  1  1  1  1  1"
      ]
     },
     "execution_count": 33,
     "metadata": {},
     "output_type": "execute_result"
    }
   ],
   "source": [
    "ones(M5,10,10)"
   ]
  },
  {
   "cell_type": "code",
   "execution_count": 36,
   "metadata": {},
   "outputs": [
    {
     "data": {
      "text/plain": [
       "10×10 Array{ModInt{5},2}:\n",
       " 0  1  0  0  0  0  0  0  0  0\n",
       " 0  0  1  0  0  0  0  0  0  0\n",
       " 0  0  0  1  0  0  0  0  0  0\n",
       " 0  0  0  0  1  0  0  0  0  0\n",
       " 0  0  0  0  0  1  0  0  0  0\n",
       " 0  0  0  0  0  0  1  0  0  0\n",
       " 0  0  0  0  0  0  0  1  0  0\n",
       " 0  0  0  0  0  0  0  0  1  0\n",
       " 0  0  0  0  0  0  0  0  0  1\n",
       " 0  0  0  0  0  0  0  0  0  0"
      ]
     },
     "execution_count": 36,
     "metadata": {},
     "output_type": "execute_result"
    }
   ],
   "source": [
    "diagm(1=>ones(M5,9))"
   ]
  },
  {
   "cell_type": "markdown",
   "metadata": {},
   "source": [
    "This is still fast, the following operations involves 10 million Modint multiplications."
   ]
  },
  {
   "cell_type": "markdown",
   "metadata": {
    "collapsed": true
   },
   "source": [
    "### Exercise\n",
    "\n",
    "1. Write a function that counts the number of elements in an array that are less than a user-defined threshold"
   ]
  },
  {
   "cell_type": "code",
   "execution_count": 37,
   "metadata": {},
   "outputs": [
    {
     "data": {
      "text/plain": [
       "f (generic function with 1 method)"
      ]
     },
     "execution_count": 37,
     "metadata": {},
     "output_type": "execute_result"
    }
   ],
   "source": [
    "# Task 1\n",
    "function f(x,tres)\n",
    "    s = 0\n",
    "    for ix in x\n",
    "        if ix < tres\n",
    "            s = s+1\n",
    "        end\n",
    "    end\n",
    "    s\n",
    "end"
   ]
  },
  {
   "cell_type": "code",
   "execution_count": 38,
   "metadata": {},
   "outputs": [
    {
     "data": {
      "text/plain": [
       "\u001b[32m\u001b[1mTest Passed\u001b[22m\u001b[39m"
      ]
     },
     "execution_count": 38,
     "metadata": {},
     "output_type": "execute_result"
    }
   ],
   "source": [
    "using Test\n",
    "\n",
    "@test f([0.05,0.8,2.0,0.06],0.1) == 2\n",
    "@test f(collect(1:10),3.5) == 3"
   ]
  },
  {
   "cell_type": "markdown",
   "metadata": {},
   "source": [
    "2. Write a function that calculates the sum of squares of an array"
   ]
  },
  {
   "cell_type": "code",
   "execution_count": 41,
   "metadata": {},
   "outputs": [
    {
     "data": {
      "text/plain": [
       "g (generic function with 1 method)"
      ]
     },
     "execution_count": 41,
     "metadata": {},
     "output_type": "execute_result"
    }
   ],
   "source": [
    "# Task 2\n",
    "function g(x)\n",
    "    s = zero(eltype(x))\n",
    "    for ix in x\n",
    "        s += ix^2\n",
    "    end\n",
    "    s\n",
    "end\n",
    "# Define a function g here"
   ]
  },
  {
   "cell_type": "code",
   "execution_count": 51,
   "metadata": {},
   "outputs": [
    {
     "data": {
      "text/plain": [
       "\u001b[32m\u001b[1mTest Passed\u001b[22m\u001b[39m"
      ]
     },
     "execution_count": 51,
     "metadata": {},
     "output_type": "execute_result"
    }
   ],
   "source": [
    "@test g([2.0, 3.5, 1.5]) == 18.5\n",
    "@test g([4,5,6]) == 77"
   ]
  },
  {
   "cell_type": "code",
   "execution_count": null,
   "metadata": {},
   "outputs": [],
   "source": []
  }
 ],
 "metadata": {
  "@webio": {
   "lastCommId": "797d568aa98c488299d913afcf1b14d2",
   "lastKernelId": "4ed922fe-201c-47bd-9815-2678b564e112"
  },
  "anaconda-cloud": {},
  "kernelspec": {
   "display_name": "Julia 1.0.2",
   "language": "julia",
   "name": "julia-1.0"
  },
  "language_info": {
   "file_extension": ".jl",
   "mimetype": "application/julia",
   "name": "julia",
   "version": "1.0.2"
  }
 },
 "nbformat": 4,
 "nbformat_minor": 2
}
